{
 "cells": [
  {
   "cell_type": "code",
   "execution_count": 8,
   "metadata": {},
   "outputs": [],
   "source": [
    "import time \n",
    "def clock(func):\n",
    "    def clocked(*args):\n",
    "        t0 = time.perf_counter()\n",
    "        result = func(*args)\n",
    "        elapsed = time.perf_counter() - t0\n",
    "        name = func.__name__\n",
    "        arg_str = ', '.join(repr(arg) for arg in args)\n",
    "        print('[{0:.8f}s]{1}({2}) -> {3}'.format(elapsed, name, arg_str, result))\n",
    "        return result\n",
    "    return clocked"
   ]
  },
  {
   "cell_type": "code",
   "execution_count": 14,
   "metadata": {},
   "outputs": [
    {
     "name": "stdout",
     "output_type": "stream",
     "text": [
      "****************************************\n",
      "[1.00104990s]snooze(1) -> None\n",
      "****************************************\n",
      "[0.00000147s]factorial(1) -> 1\n",
      "[0.00009443s]factorial(2) -> 2\n",
      "[0.00014685s]factorial(3) -> 6\n",
      "[0.00019440s]factorial(4) -> 24\n",
      "[0.00024419s]factorial(5) -> 120\n",
      "****************************************\n",
      "clocked clocked\n"
     ]
    }
   ],
   "source": [
    "@clock\n",
    "def snooze(seconds):\n",
    "    time.sleep(seconds)\n",
    "    \n",
    "@clock\n",
    "def factorial(n):\n",
    "    return 1 if n < 2 else n * factorial(n - 1)\n",
    "\n",
    "print('*' * 40)\n",
    "snooze(1)\n",
    "print('*' * 40)\n",
    "factorial(5)\n",
    "print('*' * 40)\n",
    "print(snooze.__name__, factorial.__name__)"
   ]
  },
  {
   "cell_type": "code",
   "execution_count": 37,
   "metadata": {},
   "outputs": [],
   "source": [
    "#改进函数__name__ 和 __doc__属性，并且添加关键字属性\n",
    "import time \n",
    "import functools\n",
    "DETAULT_FMT = '[{0:.8f}s]{1}({2}) -> {3}'\n",
    "\n",
    "def clock(fmt = DETAULT_FMT):\n",
    "    def decorate(func):\n",
    "        @functools.wraps(func)\n",
    "        def clocked(*args, **kwargs):\n",
    "            t0 = time.perf_counter()\n",
    "            result = func(*args, **kwargs)\n",
    "            elapsed = time.perf_counter() - t0\n",
    "            name = func.__name__\n",
    "            arg_list = []\n",
    "            if args:\n",
    "                arg_list.append(', '.join(repr(arg) for arg in args))\n",
    "            if kwargs:\n",
    "                pairs = ['{0} = {1}'.format(k, w) for k, w in sorted(kwargs.items())]\n",
    "                arg_list.append(', ',join(pairs))\n",
    "            arg_str = ', '.join(arg_list)\n",
    "            print(fmt.format(elapsed, name, arg_str, result))\n",
    "            return result\n",
    "        return clocked\n",
    "    return decorate"
   ]
  },
  {
   "cell_type": "code",
   "execution_count": 38,
   "metadata": {},
   "outputs": [
    {
     "name": "stdout",
     "output_type": "stream",
     "text": [
      "****************************************\n",
      "[1.00105418s]snooze(1) -> None\n",
      "****************************************\n",
      "[0.00000042s]factorial(1) -> 1\n",
      "[0.00002425s]factorial(2) -> 2\n",
      "[0.00004200s]factorial(3) -> 6\n",
      "[0.00005759s]factorial(4) -> 24\n",
      "[0.00007494s]factorial(5) -> 120\n",
      "****************************************\n",
      "snooze factorial\n"
     ]
    }
   ],
   "source": [
    "@clock()\n",
    "def snooze(seconds):\n",
    "    time.sleep(seconds)\n",
    "    \n",
    "@clock()\n",
    "def factorial(n):\n",
    "    return 1 if n < 2 else n * factorial(n - 1)\n",
    "\n",
    "print('*' * 40)\n",
    "snooze(1)\n",
    "print('*' * 40)\n",
    "factorial(5)\n",
    "print('*' * 40)\n",
    "print(snooze.__name__, factorial.__name__)"
   ]
  },
  {
   "cell_type": "code",
   "execution_count": 20,
   "metadata": {},
   "outputs": [
    {
     "name": "stdout",
     "output_type": "stream",
     "text": [
      "****************************************\n",
      "[0.00000089s]fibonacci(1) -> 1\n",
      "[0.00000102s]fibonacci(0) -> 0\n",
      "[0.00008894s]fibonacci(2) -> 1\n",
      "[0.00000095s]fibonacci(1) -> 1\n",
      "[0.00014917s]fibonacci(3) -> 2\n",
      "[0.00000085s]fibonacci(1) -> 1\n",
      "[0.00000087s]fibonacci(0) -> 0\n",
      "[0.00008158s]fibonacci(2) -> 1\n",
      "[0.00202174s]fibonacci(4) -> 3\n",
      "[0.00000068s]fibonacci(1) -> 1\n",
      "[0.00000076s]fibonacci(0) -> 0\n",
      "[0.00005506s]fibonacci(2) -> 1\n",
      "[0.00000070s]fibonacci(1) -> 1\n",
      "[0.00010745s]fibonacci(3) -> 2\n",
      "[0.00218126s]fibonacci(5) -> 5\n",
      "[0.00000062s]fibonacci(1) -> 1\n",
      "[0.00000067s]fibonacci(0) -> 0\n",
      "[0.00005135s]fibonacci(2) -> 1\n",
      "[0.00000057s]fibonacci(1) -> 1\n",
      "[0.00010111s]fibonacci(3) -> 2\n",
      "[0.00000064s]fibonacci(1) -> 1\n",
      "[0.00000064s]fibonacci(0) -> 0\n",
      "[0.00005106s]fibonacci(2) -> 1\n",
      "[0.00021145s]fibonacci(4) -> 3\n",
      "[0.00244657s]fibonacci(6) -> 8\n"
     ]
    },
    {
     "data": {
      "text/plain": [
       "8"
      ]
     },
     "execution_count": 20,
     "metadata": {},
     "output_type": "execute_result"
    }
   ],
   "source": [
    "#时间问题，斐波那契\n",
    "@clock\n",
    "def fibonacci(n):\n",
    "    return n if n < 2 else fibonacci(n - 1) + fibonacci(n - 2)\n",
    "print('*' * 40)\n",
    "fibonacci(6)"
   ]
  },
  {
   "cell_type": "code",
   "execution_count": 22,
   "metadata": {},
   "outputs": [
    {
     "name": "stdout",
     "output_type": "stream",
     "text": [
      "****************************************\n",
      "[0.00000110s]fibonacci(0) -> 0\n",
      "[0.00000063s]fibonacci(1) -> 1\n",
      "[0.00008362s]fibonacci(2) -> 1\n",
      "[0.00000134s]fibonacci(3) -> 2\n",
      "[0.00013515s]fibonacci(4) -> 3\n",
      "[0.00000106s]fibonacci(5) -> 5\n",
      "[0.00018595s]fibonacci(6) -> 8\n"
     ]
    },
    {
     "data": {
      "text/plain": [
       "8"
      ]
     },
     "execution_count": 22,
     "metadata": {},
     "output_type": "execute_result"
    }
   ],
   "source": [
    "#利用缓存实现, 速度更快，利用字典存储结果，不会进入已缓存的结果的函数栈，因此可以看出没有那么多次的函数递归\n",
    "@functools.lru_cache()\n",
    "@clock\n",
    "def fibonacci(n):\n",
    "    return n if n < 2 else fibonacci(n - 2) + fibonacci(n - 1)\n",
    "print('*' * 40)\n",
    "fibonacci(6)"
   ]
  },
  {
   "cell_type": "code",
   "execution_count": 112,
   "metadata": {},
   "outputs": [],
   "source": [
    "def test(func):\n",
    "    L = []\n",
    "    count = 1\n",
    "    def wrap(*args, **kwargs):\n",
    "        L.append(func)\n",
    "        print(L)\n",
    "        return func\n",
    "    return wrap"
   ]
  },
  {
   "cell_type": "code",
   "execution_count": 113,
   "metadata": {},
   "outputs": [],
   "source": [
    "@test\n",
    "def hello():\n",
    "    print('hello world')\n",
    "    \n",
    "@test\n",
    "def hello2():\n",
    "    print('hello world')"
   ]
  },
  {
   "cell_type": "code",
   "execution_count": 116,
   "metadata": {},
   "outputs": [
    {
     "name": "stdout",
     "output_type": "stream",
     "text": [
      "[<function hello at 0x7f9ff82a5620>, <function hello at 0x7f9ff82a5620>]\n"
     ]
    },
    {
     "data": {
      "text/plain": [
       "<function __main__.hello()>"
      ]
     },
     "execution_count": 116,
     "metadata": {},
     "output_type": "execute_result"
    }
   ],
   "source": [
    "hello()"
   ]
  },
  {
   "cell_type": "code",
   "execution_count": 93,
   "metadata": {},
   "outputs": [
    {
     "data": {
      "text/plain": [
       "'hello'"
      ]
     },
     "execution_count": 93,
     "metadata": {},
     "output_type": "execute_result"
    }
   ],
   "source": [
    "hello.__name__"
   ]
  },
  {
   "cell_type": "code",
   "execution_count": 94,
   "metadata": {},
   "outputs": [
    {
     "name": "stdout",
     "output_type": "stream",
     "text": [
      "hello world\n"
     ]
    }
   ],
   "source": [
    "hello()"
   ]
  },
  {
   "cell_type": "code",
   "execution_count": null,
   "metadata": {},
   "outputs": [],
   "source": []
  }
 ],
 "metadata": {
  "kernelspec": {
   "display_name": "Python 3",
   "language": "python",
   "name": "python3"
  },
  "language_info": {
   "codemirror_mode": {
    "name": "ipython",
    "version": 3
   },
   "file_extension": ".py",
   "mimetype": "text/x-python",
   "name": "python",
   "nbconvert_exporter": "python",
   "pygments_lexer": "ipython3",
   "version": "3.6.5"
  }
 },
 "nbformat": 4,
 "nbformat_minor": 2
}
