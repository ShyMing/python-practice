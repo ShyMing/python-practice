{
 "cells": [
  {
   "cell_type": "code",
   "execution_count": 1,
   "metadata": {},
   "outputs": [],
   "source": [
    "import os\n",
    "import time\n",
    "import sys\n",
    "\n",
    "import requests"
   ]
  },
  {
   "cell_type": "code",
   "execution_count": 2,
   "metadata": {},
   "outputs": [],
   "source": [
    "POP20_CC = ('CN IN US ID BR PK NG BD RU JP'\n",
    "           ' MX PH VN ET EG DE IR TR CD FR').split()\n",
    "\n",
    "BASE_URL = 'http://flupy.org/data/flags'\n",
    "\n",
    "DEST_DIR = 'downloads/'"
   ]
  },
  {
   "cell_type": "code",
   "execution_count": 4,
   "metadata": {
    "scrolled": true
   },
   "outputs": [
    {
     "name": "stdout",
     "output_type": "stream",
     "text": [
      "BD BR CD CN DE EG ET FR ID IN IR JP MX NG PH PK RU TR US VN \n",
      "20 flags downloads in 17.35s\n"
     ]
    }
   ],
   "source": [
    "def saveFlag(img, filename):\n",
    "    path = os.path.join(DEST_DIR, filename)\n",
    "    if not os.path.exists(DEST_DIR):\n",
    "        os.makedirs(DEST_DIR)\n",
    "    with open(path, 'wb') as fp:\n",
    "        fp.write(img)\n",
    "        \n",
    "def getFlag(cc):\n",
    "    url = '{}/{cc}/{cc}.gif'.format(BASE_URL, cc = cc.lower())\n",
    "    resp = requests.get(url)\n",
    "    return resp.content\n",
    "\n",
    "def show(text):\n",
    "    print(text, end = ' ')\n",
    "    sys.stdout.flush()\n",
    "    \n",
    "def downloadMany(ccList):\n",
    "    for cc in sorted(ccList):\n",
    "        image = getFlag(cc)\n",
    "        show(cc)\n",
    "        saveFlag(image, cc.lower() + '.gif')\n",
    "        \n",
    "    return len(ccList)\n",
    "\n",
    "def main(downloadMany):\n",
    "    t0 = time.time()\n",
    "    count = downloadMany(POP20_CC)\n",
    "    elapsed = time.time() - t0\n",
    "    msg = '\\n{} flags downloads in {:.2f}s'\n",
    "    print(msg.format(count, elapsed))\n",
    "    \n",
    "main(downloadMany)"
   ]
  },
  {
   "cell_type": "code",
   "execution_count": 7,
   "metadata": {},
   "outputs": [
    {
     "name": "stdout",
     "output_type": "stream",
     "text": [
      "DE FR IN TR EG VN NG ID RU JP PK ET MX PH US IR BD BR CN CD \n",
      "20 flags downloads in 2.77s\n"
     ]
    }
   ],
   "source": [
    "## 多线程版本\n",
    "from concurrent import futures\n",
    "\n",
    "MAX_WOKERS = 20\n",
    "\n",
    "def downloadOne(cc):\n",
    "    image = getFlag(cc)\n",
    "    show(cc)\n",
    "    saveFlag(image, cc.lower() + '.gif')\n",
    "    return cc\n",
    "\n",
    "def downloadManyFutures(ccList):\n",
    "    wokers = min(MAX_WOKERS, len(ccList))\n",
    "    with futures.ThreadPoolExecutor(wokers) as executor:\n",
    "        res = executor.map(downloadOne, sorted(ccList))\n",
    "    return len(list(res))\n",
    "\n",
    "main(downloadManyFutures)"
   ]
  },
  {
   "cell_type": "code",
   "execution_count": 16,
   "metadata": {
    "scrolled": true
   },
   "outputs": [
    {
     "name": "stdout",
     "output_type": "stream",
     "text": [
      "Scheduled for BR: <Future at 0x7fa900402d30 state=running>\n",
      "Scheduled for CN: <Future at 0x7fa9004029e8 state=running>\n",
      "Scheduled for ID: <Future at 0x7fa900caa048 state=running>\n",
      "Scheduled for IN: <Future at 0x7fa900caada0 state=pending>\n",
      "Scheduled for US: <Future at 0x7fa900caac50 state=pending>\n",
      "BR <Future at 0x7fa900402d30 state=finished returned str> result: 'BR'ID \n",
      "CN <Future at 0x7fa900caa048 state=finished returned str> result: 'ID'\n",
      "<Future at 0x7fa9004029e8 state=finished returned str> result: 'CN'\n",
      "IN <Future at 0x7fa900caada0 state=finished returned str> result: 'IN'\n",
      "US <Future at 0x7fa900caac50 state=finished returned str> result: 'US'\n",
      "\n",
      "5 flags downloads in 0.99s\n"
     ]
    }
   ],
   "source": [
    "## 一窥future的面貌\n",
    "def downloadManyFutures2(ccList):\n",
    "    ccList = ccList[:5]\n",
    "    with futures.ThreadPoolExecutor(3) as executor:\n",
    "        toDo = []\n",
    "        for cc in sorted(ccList):\n",
    "            future = executor.submit(downloadOne, cc)\n",
    "            toDo.append(future)\n",
    "            msg = 'Scheduled for {}: {}'\n",
    "            print(msg.format(cc, future))\n",
    "            \n",
    "        results = []\n",
    "        for future in futures.as_completed(toDo):\n",
    "            res = future.result()\n",
    "            msg = '{} result: {!r}'\n",
    "            print(msg.format(future, res))\n",
    "            results.append(res)\n",
    "        return len(results)\n",
    "    \n",
    "main(downloadManyFutures2)"
   ]
  },
  {
   "cell_type": "code",
   "execution_count": null,
   "metadata": {},
   "outputs": [],
   "source": []
  }
 ],
 "metadata": {
  "kernelspec": {
   "display_name": "Python 3",
   "language": "python",
   "name": "python3"
  },
  "language_info": {
   "codemirror_mode": {
    "name": "ipython",
    "version": 3
   },
   "file_extension": ".py",
   "mimetype": "text/x-python",
   "name": "python",
   "nbconvert_exporter": "python",
   "pygments_lexer": "ipython3",
   "version": "3.6.5"
  }
 },
 "nbformat": 4,
 "nbformat_minor": 2
}
