{
 "cells": [
  {
   "cell_type": "code",
   "execution_count": 4,
   "metadata": {},
   "outputs": [
    {
     "name": "stdout",
     "output_type": "stream",
     "text": [
      "-> coroutine started\n",
      "-> coroutine received: 42\n"
     ]
    },
    {
     "ename": "StopIteration",
     "evalue": "",
     "output_type": "error",
     "traceback": [
      "\u001b[0;31m-------------------------------------------------------------------------\u001b[0m",
      "\u001b[0;31mStopIteration\u001b[0m                           Traceback (most recent call last)",
      "\u001b[0;32m<ipython-input-4-1e970c4ee496>\u001b[0m in \u001b[0;36m<module>\u001b[0;34m()\u001b[0m\n\u001b[1;32m      7\u001b[0m \u001b[0mmyCoro\u001b[0m \u001b[0;34m=\u001b[0m \u001b[0msimpleCoroutine\u001b[0m\u001b[0;34m(\u001b[0m\u001b[0;34m)\u001b[0m\u001b[0;34m\u001b[0m\u001b[0m\n\u001b[1;32m      8\u001b[0m \u001b[0mmyCoro\u001b[0m\u001b[0;34m.\u001b[0m\u001b[0msend\u001b[0m\u001b[0;34m(\u001b[0m\u001b[0;32mNone\u001b[0m\u001b[0;34m)\u001b[0m\u001b[0;34m\u001b[0m\u001b[0m\n\u001b[0;32m----> 9\u001b[0;31m \u001b[0mmyCoro\u001b[0m\u001b[0;34m.\u001b[0m\u001b[0msend\u001b[0m\u001b[0;34m(\u001b[0m\u001b[0;36m42\u001b[0m\u001b[0;34m)\u001b[0m\u001b[0;34m\u001b[0m\u001b[0m\n\u001b[0m",
      "\u001b[0;31mStopIteration\u001b[0m: "
     ]
    }
   ],
   "source": [
    "#最简单的协程程序\n",
    "def simpleCoroutine():\n",
    "    print('-> coroutine started')\n",
    "    x = yield\n",
    "    print('-> coroutine received:', x)\n",
    "    \n",
    "myCoro = simpleCoroutine()\n",
    "myCoro.send(None)\n",
    "myCoro.send(42)"
   ]
  },
  {
   "cell_type": "code",
   "execution_count": 5,
   "metadata": {},
   "outputs": [],
   "source": [
    "# 不可以在没有预激协程的时候调用参数不为None的.send(),为None时也可以预激协程"
   ]
  },
  {
   "cell_type": "code",
   "execution_count": 6,
   "metadata": {},
   "outputs": [],
   "source": [
    "#可以通过from inspect import getgeneratorstate 查看协程状态"
   ]
  },
  {
   "cell_type": "code",
   "execution_count": 7,
   "metadata": {},
   "outputs": [],
   "source": [
    "# 使用协程计算移动平均值\n",
    "def averager():\n",
    "    total = 0.0\n",
    "    count = 0\n",
    "    average = None\n",
    "    while True:\n",
    "        term = yield average\n",
    "        total += term\n",
    "        count += 1\n",
    "        average = total / count"
   ]
  },
  {
   "cell_type": "code",
   "execution_count": 8,
   "metadata": {},
   "outputs": [],
   "source": [
    "a = averager()\n",
    "next(a)"
   ]
  },
  {
   "cell_type": "code",
   "execution_count": 10,
   "metadata": {},
   "outputs": [
    {
     "name": "stdout",
     "output_type": "stream",
     "text": [
      "4.090909090909091\n",
      "3.8333333333333335\n",
      "3.6923076923076925\n",
      "3.642857142857143\n",
      "3.6666666666666665\n",
      "3.75\n",
      "3.8823529411764706\n",
      "4.055555555555555\n",
      "4.2631578947368425\n",
      "4.5\n",
      "4.761904761904762\n"
     ]
    }
   ],
   "source": [
    "for i in range(11):\n",
    "    print(a.send(i))"
   ]
  },
  {
   "cell_type": "code",
   "execution_count": 11,
   "metadata": {},
   "outputs": [],
   "source": [
    "a.close()"
   ]
  },
  {
   "cell_type": "code",
   "execution_count": 13,
   "metadata": {},
   "outputs": [],
   "source": [
    "# 不预激的协程没什么用，预激协程的装饰器\n",
    "from functools import wraps\n",
    "\n",
    "def coroutine(func):\n",
    "    @wraps(func)\n",
    "    def primer(*args, **kwargs):\n",
    "        gen = func(*args, **kwargs)\n",
    "        next(gen)\n",
    "        return gen\n",
    "    return primer\n",
    "\n",
    "@coroutine\n",
    "def averager():\n",
    "    total = 0.0\n",
    "    count = 0\n",
    "    average = None\n",
    "    while True:\n",
    "        term = yield average\n",
    "        total += term\n",
    "        count += 1\n",
    "        average = total / count"
   ]
  },
  {
   "cell_type": "code",
   "execution_count": 14,
   "metadata": {
    "scrolled": true
   },
   "outputs": [
    {
     "name": "stdout",
     "output_type": "stream",
     "text": [
      "0.0\n",
      "0.5\n",
      "1.0\n",
      "1.5\n",
      "2.0\n",
      "2.5\n",
      "3.0\n",
      "3.5\n",
      "4.0\n",
      "4.5\n",
      "5.0\n"
     ]
    }
   ],
   "source": [
    "a = averager()\n",
    "for i in range(11):\n",
    "    print(a.send(i))"
   ]
  },
  {
   "cell_type": "code",
   "execution_count": 15,
   "metadata": {},
   "outputs": [],
   "source": [
    "## 让协程返回值\n",
    "# 不预激的协程没什么用，预激协程的装饰器\n",
    "from functools import wraps\n",
    "\n",
    "def coroutine(func):\n",
    "    @wraps(func)\n",
    "    def primer(*args, **kwargs):\n",
    "        gen = func(*args, **kwargs)\n",
    "        next(gen)\n",
    "        return gen\n",
    "    return primer\n",
    "\n",
    "@coroutine\n",
    "def averager():\n",
    "    total = 0.0\n",
    "    count = 0\n",
    "    average = None\n",
    "    while True:\n",
    "        term = yield average\n",
    "        if term is None:\n",
    "            break\n",
    "        total += term\n",
    "        count += 1\n",
    "        average = total / count\n",
    "    return count, average"
   ]
  },
  {
   "cell_type": "code",
   "execution_count": 16,
   "metadata": {
    "scrolled": true
   },
   "outputs": [
    {
     "name": "stdout",
     "output_type": "stream",
     "text": [
      "0.0\n",
      "0.5\n",
      "1.0\n",
      "1.5\n",
      "2.0\n",
      "2.5\n",
      "3.0\n",
      "3.5\n",
      "4.0\n",
      "4.5\n",
      "5.0\n"
     ]
    },
    {
     "ename": "StopIteration",
     "evalue": "(11, 5.0)",
     "output_type": "error",
     "traceback": [
      "\u001b[0;31m-------------------------------------------------------------------------\u001b[0m",
      "\u001b[0;31mStopIteration\u001b[0m                           Traceback (most recent call last)",
      "\u001b[0;32m<ipython-input-16-6594c8fb0c6a>\u001b[0m in \u001b[0;36m<module>\u001b[0;34m()\u001b[0m\n\u001b[1;32m      2\u001b[0m \u001b[0;32mfor\u001b[0m \u001b[0mi\u001b[0m \u001b[0;32min\u001b[0m \u001b[0mrange\u001b[0m\u001b[0;34m(\u001b[0m\u001b[0;36m11\u001b[0m\u001b[0;34m)\u001b[0m\u001b[0;34m:\u001b[0m\u001b[0;34m\u001b[0m\u001b[0m\n\u001b[1;32m      3\u001b[0m     \u001b[0mprint\u001b[0m\u001b[0;34m(\u001b[0m\u001b[0ma\u001b[0m\u001b[0;34m.\u001b[0m\u001b[0msend\u001b[0m\u001b[0;34m(\u001b[0m\u001b[0mi\u001b[0m\u001b[0;34m)\u001b[0m\u001b[0;34m)\u001b[0m\u001b[0;34m\u001b[0m\u001b[0m\n\u001b[0;32m----> 4\u001b[0;31m \u001b[0ma\u001b[0m\u001b[0;34m.\u001b[0m\u001b[0msend\u001b[0m\u001b[0;34m(\u001b[0m\u001b[0;32mNone\u001b[0m\u001b[0;34m)\u001b[0m\u001b[0;34m\u001b[0m\u001b[0m\n\u001b[0m",
      "\u001b[0;31mStopIteration\u001b[0m: (11, 5.0)"
     ]
    }
   ],
   "source": [
    "a = averager()\n",
    "for i in range(11):\n",
    "    print(a.send(i))\n",
    "a.send(None)"
   ]
  },
  {
   "cell_type": "code",
   "execution_count": 17,
   "metadata": {
    "scrolled": true
   },
   "outputs": [
    {
     "name": "stdout",
     "output_type": "stream",
     "text": [
      "0.0\n",
      "0.5\n",
      "1.0\n",
      "1.5\n",
      "2.0\n",
      "2.5\n",
      "3.0\n",
      "3.5\n",
      "4.0\n",
      "4.5\n",
      "5.0\n"
     ]
    },
    {
     "data": {
      "text/plain": [
       "(11, 5.0)"
      ]
     },
     "execution_count": 17,
     "metadata": {},
     "output_type": "execute_result"
    }
   ],
   "source": [
    "#捕获异常返回值\n",
    "a = averager()\n",
    "for i in range(11):\n",
    "    print(a.send(i))\n",
    "try:\n",
    "    a.send(None)\n",
    "except StopIteration as e:\n",
    "    r = e.value\n",
    "r"
   ]
  },
  {
   "cell_type": "code",
   "execution_count": 38,
   "metadata": {},
   "outputs": [
    {
     "name": "stdout",
     "output_type": "stream",
     "text": [
      "group <generator object grouper at 0x7f8ad4a17ca8>\n",
      "group <generator object grouper at 0x7f8ad4a17c50>\n",
      "group <generator object grouper at 0x7f8ad4a17fc0>\n",
      "group <generator object grouper at 0x7f8ad4a17ca8>\n",
      " 4 boys  averaging 49.73kg\n",
      " 4 boys  averaging 239.72m\n",
      " 4 girls averaging 39.73kg\n",
      " 4 girls averaging 139.72m\n"
     ]
    }
   ],
   "source": [
    "# 使用yield from\n",
    "from collections import namedtuple\n",
    "from functools import wraps\n",
    "\n",
    "Result = namedtuple('Result', ('count average'))\n",
    "\n",
    "#子生成器\n",
    "def coroutine(func):\n",
    "    @wraps(func)\n",
    "    def primer(*args, **kwargs):\n",
    "        gen = func(*args, **kwargs)\n",
    "        next(gen)\n",
    "        return gen\n",
    "    return primer\n",
    "\n",
    "\n",
    "def averager():\n",
    "    total = 0.0\n",
    "    count = 0\n",
    "    average = None\n",
    "    while True:\n",
    "        term = yield average\n",
    "        if term is None:\n",
    "            break\n",
    "        total += term\n",
    "        count += 1\n",
    "        average = total / count\n",
    "    return Result(count, average)\n",
    "\n",
    "#委托生成器\n",
    "def grouper(results, key):\n",
    "    while True:\n",
    "        results[key] = yield from averager()\n",
    "        \n",
    "#客户端（调用者）\n",
    "def main(data):\n",
    "    results = {}\n",
    "    for key, values in data.items():\n",
    "        group = grouper(results, key)\n",
    "        print('group', group)\n",
    "        next(group)\n",
    "        for value in values:\n",
    "            group.send(value)\n",
    "        group.send(None)\n",
    "    report(results)\n",
    "    \n",
    "#输出报告\n",
    "def report(results):\n",
    "    for key, result in sorted(results.items()):\n",
    "        group, unit = key.split(';')\n",
    "        print('{:2} {:5} averaging {:.2f}{}'.format(result.count, group, result.average, unit))\n",
    "        \n",
    "data = {\n",
    "    'girls;kg': [40.9, 41, 42, 35],\n",
    "    'girls;m': [140.9, 141, 142, 135],\n",
    "    'boys;kg': [50.9, 51, 52, 45],\n",
    "    'boys;m': [240.9, 241, 242, 235],\n",
    "}\n",
    "\n",
    "main(data)"
   ]
  },
  {
   "cell_type": "code",
   "execution_count": 65,
   "metadata": {},
   "outputs": [],
   "source": [
    "# 出租车运营仿真\n",
    "from collections import namedtuple\n",
    "from functools import wraps\n",
    "import queue\n",
    "from random import randint\n",
    "\n",
    "Event = namedtuple('Event', ('time proc action'))\n",
    "\n",
    "# taxiProcess 协程， 实现各辆出租车的活动\n",
    "def taxiProcess(ident, trips, startTime = 0):\n",
    "    \"\"\"\n",
    "    每次状态改变后忙吧控制权交给仿真器\n",
    "    ident: 出租车编号\n",
    "    trips: 行程数量\n",
    "    startTime: 出发时间\n",
    "    \"\"\"\n",
    "    time = yield Event(startTime, ident, '离开车库')\n",
    "    for i in range(trips):\n",
    "        time = yield Event(time, ident, '乘客上车')\n",
    "        time = yield Event(time, ident, '乘客下车')\n",
    "    yield Event(time, ident, '工作结束，回家啦')\n",
    "    \n",
    "DEPARTUE_INTERVAL = 5\n",
    "numTaxis = 3\n",
    "taxis = {i: taxiProcess(i, (i + 1) * 2, i * DEPARTUE_INTERVAL) for i in range(numTaxis)}\n",
    "\n",
    "# 随机程序\n",
    "def computeDuration(previousAction):\n",
    "    return randint(1, 6)\n",
    "\n",
    "#仿真控制台\n",
    "class Simulator:\n",
    "    \n",
    "    def __init__(self, procsMap):\n",
    "        self.events = queue.PriorityQueue()\n",
    "        self.procs = dict(procsMap)\n",
    "    \n",
    "    def run(self, endTime):\n",
    "        \"\"\"排定并显示时间，直到时间结束\"\"\"\n",
    "        #排定各辆出租车的第一个时间\n",
    "        for _, proc in sorted(self.procs.items()):\n",
    "            firstEvent = next(proc)\n",
    "            self.events.put(firstEvent)\n",
    "            \n",
    "        #这个仿真系统的循环\n",
    "        simTime = 0\n",
    "        while simTime < endTime:\n",
    "            if self.events.empty():\n",
    "                print(\"*** end of events ***\")\n",
    "                break\n",
    "            \n",
    "            currentEvent = self.events.get()\n",
    "            simTime, procId, previousAction = currentEvent\n",
    "            print('  ' * procId + 'taxi:', procId, currentEvent)\n",
    "            activeProc = self.procs[procId]\n",
    "            nextTime = simTime + computeDuration(previousAction)\n",
    "            try:\n",
    "                nextEvent = activeProc.send(nextTime)\n",
    "            except StopIteration as e:\n",
    "                del self.procs[procId]\n",
    "            else:\n",
    "                self.events.put(nextEvent)\n",
    "        else:\n",
    "            msg = '*** end of simulation time: {} events pending ***'\n",
    "            print(msg.foramt(self.events.qsize()))"
   ]
  },
  {
   "cell_type": "code",
   "execution_count": 66,
   "metadata": {},
   "outputs": [],
   "source": [
    "s = Simulator(taxis)"
   ]
  },
  {
   "cell_type": "code",
   "execution_count": 67,
   "metadata": {},
   "outputs": [
    {
     "name": "stdout",
     "output_type": "stream",
     "text": [
      "taxi: 0 Event(time=0, proc=0, action='离开车库')\n",
      "taxi: 0 Event(time=2, proc=0, action='乘客上车')\n",
      "taxi: 0 Event(time=3, proc=0, action='乘客下车')\n",
      "  taxi: 1 Event(time=5, proc=1, action='离开车库')\n",
      "taxi: 0 Event(time=7, proc=0, action='乘客上车')\n",
      "  taxi: 1 Event(time=10, proc=1, action='乘客上车')\n",
      "    taxi: 2 Event(time=10, proc=2, action='离开车库')\n",
      "taxi: 0 Event(time=11, proc=0, action='乘客下车')\n",
      "  taxi: 1 Event(time=12, proc=1, action='乘客下车')\n",
      "taxi: 0 Event(time=14, proc=0, action='工作结束，回家啦')\n",
      "    taxi: 2 Event(time=15, proc=2, action='乘客上车')\n",
      "  taxi: 1 Event(time=17, proc=1, action='乘客上车')\n",
      "  taxi: 1 Event(time=18, proc=1, action='乘客下车')\n",
      "    taxi: 2 Event(time=19, proc=2, action='乘客下车')\n",
      "    taxi: 2 Event(time=21, proc=2, action='乘客上车')\n",
      "  taxi: 1 Event(time=22, proc=1, action='乘客上车')\n",
      "  taxi: 1 Event(time=25, proc=1, action='乘客下车')\n",
      "    taxi: 2 Event(time=26, proc=2, action='乘客下车')\n",
      "  taxi: 1 Event(time=27, proc=1, action='乘客上车')\n",
      "    taxi: 2 Event(time=30, proc=2, action='乘客上车')\n",
      "  taxi: 1 Event(time=33, proc=1, action='乘客下车')\n",
      "  taxi: 1 Event(time=35, proc=1, action='工作结束，回家啦')\n",
      "    taxi: 2 Event(time=35, proc=2, action='乘客下车')\n",
      "    taxi: 2 Event(time=36, proc=2, action='乘客上车')\n",
      "    taxi: 2 Event(time=38, proc=2, action='乘客下车')\n",
      "    taxi: 2 Event(time=42, proc=2, action='乘客上车')\n",
      "    taxi: 2 Event(time=45, proc=2, action='乘客下车')\n",
      "    taxi: 2 Event(time=49, proc=2, action='乘客上车')\n",
      "    taxi: 2 Event(time=55, proc=2, action='乘客下车')\n",
      "    taxi: 2 Event(time=59, proc=2, action='工作结束，回家啦')\n",
      "*** end of events ***\n"
     ]
    }
   ],
   "source": [
    "s.run(100)"
   ]
  },
  {
   "cell_type": "code",
   "execution_count": null,
   "metadata": {},
   "outputs": [],
   "source": []
  }
 ],
 "metadata": {
  "kernelspec": {
   "display_name": "Python 3",
   "language": "python",
   "name": "python3"
  },
  "language_info": {
   "codemirror_mode": {
    "name": "ipython",
    "version": 3
   },
   "file_extension": ".py",
   "mimetype": "text/x-python",
   "name": "python",
   "nbconvert_exporter": "python",
   "pygments_lexer": "ipython3",
   "version": "3.6.5"
  }
 },
 "nbformat": 4,
 "nbformat_minor": 2
}
