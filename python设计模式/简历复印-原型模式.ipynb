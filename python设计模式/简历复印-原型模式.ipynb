{
 "cells": [
  {
   "cell_type": "code",
   "execution_count": 1,
   "metadata": {},
   "outputs": [],
   "source": [
    "# 原型模式（Prototype）：用原型实例制定创建对象的种类\n",
    "# 并通过拷贝这些原型创建新的对象"
   ]
  },
  {
   "cell_type": "code",
   "execution_count": 2,
   "metadata": {},
   "outputs": [],
   "source": [
    "from abc import ABC, abstractmethod\n",
    "import copy\n",
    "class ICloneable(ABC):\n",
    "    @abstractmethod\n",
    "    def clone(self):\n",
    "        \"\"\"浅复制\"\"\"\n",
    "        \n",
    "    @abstractmethod\n",
    "    def deepclone(self):\n",
    "        \"\"\"深复制\"\"\""
   ]
  },
  {
   "cell_type": "code",
   "execution_count": 3,
   "metadata": {},
   "outputs": [],
   "source": [
    "class resume(ICloneable):\n",
    "    def __init__(self,\n",
    "                 name,\n",
    "                 sex,\n",
    "                 age,\n",
    "                 timeArea,\n",
    "                 compony\n",
    "                ):\n",
    "        self.name = name\n",
    "        self.sex = sex\n",
    "        self.age = age\n",
    "        self.workInfo = {\n",
    "            'timeArea': timeArea,\n",
    "            'compony': compony\n",
    "        }\n",
    "        \n",
    "    def display(self):\n",
    "        print('{0} {1} {2}'.format(self.name, self.sex, self.age))\n",
    "        print('工作经历： {0} {1}'.format(self.workInfo['timeArea'], self.workInfo['compony']))\n",
    "    def clone(self):\n",
    "        return copy.copy(self)\n",
    "    def deepclone(self):\n",
    "        return copy.deepcopy(self)"
   ]
  },
  {
   "cell_type": "code",
   "execution_count": 6,
   "metadata": {},
   "outputs": [],
   "source": [
    "a = resume('liang', 23, '男', \"1998-2011\", 'xx公司')\n",
    "b = a.clone()\n",
    "c = a.deepclone()\n",
    "b.workInfo['timeArea'] = \"2500-2700\"\n",
    "b.name = 'su'\n",
    "c.workInfo['timeArea'] = \"500-700\"\n",
    "c.name = 'ming'"
   ]
  },
  {
   "cell_type": "code",
   "execution_count": 7,
   "metadata": {},
   "outputs": [
    {
     "name": "stdout",
     "output_type": "stream",
     "text": [
      "liang 23 男\n",
      "工作经历： 2500-2700 xx公司\n",
      "su 23 男\n",
      "工作经历： 2500-2700 xx公司\n",
      "ming 23 男\n",
      "工作经历： 500-700 xx公司\n"
     ]
    }
   ],
   "source": [
    "a.display()\n",
    "b.display()\n",
    "c.display()"
   ]
  },
  {
   "cell_type": "code",
   "execution_count": 10,
   "metadata": {},
   "outputs": [],
   "source": [
    "b = a.clone()"
   ]
  },
  {
   "cell_type": "code",
   "execution_count": 11,
   "metadata": {},
   "outputs": [],
   "source": [
    "b.name = 'su'"
   ]
  },
  {
   "cell_type": "code",
   "execution_count": 13,
   "metadata": {},
   "outputs": [
    {
     "name": "stdout",
     "output_type": "stream",
     "text": [
      "su 23 男\n",
      "工作经历： 1998-2011 xx公司\n"
     ]
    }
   ],
   "source": [
    "b.display()"
   ]
  },
  {
   "cell_type": "code",
   "execution_count": null,
   "metadata": {},
   "outputs": [],
   "source": []
  }
 ],
 "metadata": {
  "kernelspec": {
   "display_name": "Python 3",
   "language": "python",
   "name": "python3"
  },
  "language_info": {
   "codemirror_mode": {
    "name": "ipython",
    "version": 3
   },
   "file_extension": ".py",
   "mimetype": "text/x-python",
   "name": "python",
   "nbconvert_exporter": "python",
   "pygments_lexer": "ipython3",
   "version": "3.6.5"
  }
 },
 "nbformat": 4,
 "nbformat_minor": 2
}
