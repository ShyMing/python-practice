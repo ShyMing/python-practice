{
 "cells": [
  {
   "cell_type": "code",
   "execution_count": null,
   "metadata": {},
   "outputs": [],
   "source": [
    "# 状态模式（State）:当一个对象的内在状态改变时允许改变其他行为\n",
    "# 这个对象看起来像改变了其类\n",
    "# 状态模式主要解决的是当控制一个对象状态转换的条件表达式对于过于复杂\n",
    "# 时的情况。把状态的判断转移到表示不同状态的一系列类当中，可以把复杂\n",
    "# 的判断逻辑简化"
   ]
  },
  {
   "cell_type": "code",
   "execution_count": 14,
   "metadata": {},
   "outputs": [],
   "source": [
    "from abc import ABC, abstractmethod\n",
    "\n",
    "class State(ABC):\n",
    "    @abstractmethod\n",
    "    def writeProgram(self, w):\n",
    "        pass\n",
    "    \n",
    "class forenoonState(State):\n",
    "    def writeProgram(self, w):\n",
    "        if w.hour < 12:\n",
    "            print(\"当前时间: {0}点 上午工作，精神百倍\".format(w.hour))\n",
    "        else:\n",
    "            w.setState(noonState())\n",
    "            w.writeProgram()\n",
    "            \n",
    "class noonState(State):\n",
    "    def writeProgram(self, w):\n",
    "        if w.hour < 13:\n",
    "            print(\"当前时间: {0}点 饿了，午饭；犯困，午休\".format(w.hour))\n",
    "        else:\n",
    "            w.setState(afternoonState())\n",
    "            w.writeProgram()\n",
    "            \n",
    "class afternoonState(State):\n",
    "    def writeProgram(self, w):\n",
    "        if w.hour < 17:\n",
    "            print(\"当前时间: {0}点 下午状态还不错，继续努力\".format(w.hour))\n",
    "        else:\n",
    "            w.setState(eveningState())\n",
    "            w.writeProgram()\n",
    "            \n",
    "class eveningState(State):\n",
    "    def writeProgram(self, w):\n",
    "        if w.taskFinished:\n",
    "            w.setState(restState())\n",
    "            w.writeProgram()\n",
    "        else:\n",
    "            if w.hour < 21:\n",
    "                print(\"当前时间: {0}点 加班哦，疲惫至极\".format(w.hour))\n",
    "            else:\n",
    "                w.setState(sleepingState())\n",
    "                w.writeProgram()\n",
    "                \n",
    "class sleepingState(State):\n",
    "    def writeProgram(self, w):\n",
    "        print(\"当前时间: {0}点 不行了睡觉了\".format(w.hour))\n",
    "\n",
    "class restState(State):\n",
    "    def writeProgram(self, w):\n",
    "        print(\"当前时间: {0}点 下班回家了\".format(w.hour))\n",
    "        \n",
    "class Work:\n",
    "    def __init__(self,\n",
    "                 current = forenoonState(),\n",
    "                 hour = 9,\n",
    "                 taskFinished = False):\n",
    "        self.current = current\n",
    "        self.hour = hour\n",
    "        self.taskFinished = taskFinished\n",
    "    \n",
    "    def work(self):\n",
    "        self.current = forenoonState()\n",
    "        self.hour = 9\n",
    "        self.taskFinished = False\n",
    "        \n",
    "    def setState(self, s):\n",
    "        self.current = s\n",
    "        \n",
    "    def writeProgram(self):\n",
    "        self.current.writeProgram(self)\n",
    "            "
   ]
  },
  {
   "cell_type": "code",
   "execution_count": 15,
   "metadata": {},
   "outputs": [],
   "source": [
    "w = Work()"
   ]
  },
  {
   "cell_type": "code",
   "execution_count": 16,
   "metadata": {},
   "outputs": [
    {
     "name": "stdout",
     "output_type": "stream",
     "text": [
      "当前时间: 9点 上午工作，精神百倍\n",
      "当前时间: 13点 下午状态还不错，继续努力\n"
     ]
    }
   ],
   "source": [
    "w.writeProgram()\n",
    "w.hour = 13\n",
    "w.writeProgram()"
   ]
  },
  {
   "cell_type": "code",
   "execution_count": null,
   "metadata": {},
   "outputs": [],
   "source": []
  }
 ],
 "metadata": {
  "kernelspec": {
   "display_name": "Python 3",
   "language": "python",
   "name": "python3"
  },
  "language_info": {
   "codemirror_mode": {
    "name": "ipython",
    "version": 3
   },
   "file_extension": ".py",
   "mimetype": "text/x-python",
   "name": "python",
   "nbconvert_exporter": "python",
   "pygments_lexer": "ipython3",
   "version": "3.6.5"
  }
 },
 "nbformat": 4,
 "nbformat_minor": 2
}
