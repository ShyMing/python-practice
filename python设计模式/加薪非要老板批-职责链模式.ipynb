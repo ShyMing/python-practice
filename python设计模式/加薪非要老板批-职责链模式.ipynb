{
 "cells": [
  {
   "cell_type": "code",
   "execution_count": 1,
   "metadata": {},
   "outputs": [],
   "source": [
    "# 职责链模式（Chain of Responsibility）: 使多个对象都有机会处理请求，从而规避请求的\n",
    "# 发送者和接收者之间的耦合关系。将这个对象连成一条链，并沿着这条链传递该请求，直到\n",
    "# 有一个对象处理它为止"
   ]
  },
  {
   "cell_type": "code",
   "execution_count": 2,
   "metadata": {},
   "outputs": [],
   "source": [
    "from abc import ABC, abstractmethod\n",
    "\n",
    "class Handler:\n",
    "    def __init__(self, successor = None):\n",
    "        self.successor = successor\n",
    "        \n",
    "    def setSuccessor(self, successor):\n",
    "        self.successor = successor\n",
    "        \n",
    "    @abstractmethod\n",
    "    def handleRequest(self, request):\n",
    "        pass"
   ]
  },
  {
   "cell_type": "code",
   "execution_count": 9,
   "metadata": {},
   "outputs": [
    {
     "name": "stdout",
     "output_type": "stream",
     "text": [
      "concreteHandler1 处理请求 0\n",
      "concreteHandler2 处理请求 10\n",
      "concreteHandler3 处理请求 20\n",
      "concreteHandler1 处理请求 3\n",
      "concreteHandler2 处理请求 14\n",
      "concreteHandler1 处理请求 5\n",
      "concreteHandler3 处理请求 78\n"
     ]
    }
   ],
   "source": [
    "## 简单例子\n",
    "handleMsg = '{} 处理请求 {}'\n",
    "\n",
    "class concreteHandler1(Handler):\n",
    "    def handleRequest(self, request):\n",
    "        if request >= 0 and request < 10:\n",
    "            print(handleMsg.format(type(self).__name__, request))\n",
    "        elif self.successor is not None:\n",
    "            self.successor.handleRequest(request)\n",
    "            \n",
    "class concreteHandler2(Handler):\n",
    "    def handleRequest(self, request):\n",
    "        if request >= 10 and request < 20:\n",
    "            print(handleMsg.format(type(self).__name__, request))\n",
    "        elif self.successor is not None:\n",
    "            self.successor.handleRequest(request)\n",
    "\n",
    "class concreteHandler3(Handler):\n",
    "    def handleRequest(self, request):\n",
    "        if request >= 20:\n",
    "            print(handleMsg.format(type(self).__name__, request))\n",
    "        elif self.successor is not None:\n",
    "            self.successor.handleRequest(request)\n",
    "            \n",
    "h3 = concreteHandler1()\n",
    "h2 = concreteHandler2(h3)\n",
    "h1 = concreteHandler3(h2)\n",
    "\n",
    "requests = [0, 10, 20, 3, 14, 5, 78]\n",
    "for request in requests:\n",
    "    h1.handleRequest(request)"
   ]
  },
  {
   "cell_type": "code",
   "execution_count": null,
   "metadata": {},
   "outputs": [],
   "source": []
  }
 ],
 "metadata": {
  "kernelspec": {
   "display_name": "Python 3",
   "language": "python",
   "name": "python3"
  },
  "language_info": {
   "codemirror_mode": {
    "name": "ipython",
    "version": 3
   },
   "file_extension": ".py",
   "mimetype": "text/x-python",
   "name": "python",
   "nbconvert_exporter": "python",
   "pygments_lexer": "ipython3",
   "version": "3.6.5"
  }
 },
 "nbformat": 4,
 "nbformat_minor": 2
}
