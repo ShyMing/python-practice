{
 "cells": [
  {
   "cell_type": "code",
   "execution_count": 2,
   "metadata": {},
   "outputs": [],
   "source": [
    "# 外观模式（Facade）：为子系统的一组接口提供一个一致的界面，\n",
    "# 此模式定义了一个高层接口，这个接口使得这一子系统更加容易使用"
   ]
  },
  {
   "cell_type": "code",
   "execution_count": 3,
   "metadata": {},
   "outputs": [],
   "source": [
    "# 首先，在设计初期阶段，应该要有意识的将不同的两个层分离\n",
    "# 层与层之间简历外观Facade，其次在开发阶段往往因为不断的重构演化而变得越来越复杂\n",
    "# 增加Facade可以提供一个简单的接口，减少他们之间的依赖，第三，在维护一个\n",
    "# 遗留的大型系统时，可能这个系统已经非常难以维护和扩展了。\n",
    "# 为新系统开发一个Facade类，来提供设计粗糙或高度复杂的遗留代码的比较清晰\n",
    "# 简单的接口，让新系统于Facade对象交互，Facade与遗留代码交互所有复杂的工作"
   ]
  },
  {
   "cell_type": "code",
   "execution_count": null,
   "metadata": {},
   "outputs": [],
   "source": []
  }
 ],
 "metadata": {
  "kernelspec": {
   "display_name": "Python 3",
   "language": "python",
   "name": "python3"
  },
  "language_info": {
   "codemirror_mode": {
    "name": "ipython",
    "version": 3
   },
   "file_extension": ".py",
   "mimetype": "text/x-python",
   "name": "python",
   "nbconvert_exporter": "python",
   "pygments_lexer": "ipython3",
   "version": "3.6.5"
  }
 },
 "nbformat": 4,
 "nbformat_minor": 2
}
