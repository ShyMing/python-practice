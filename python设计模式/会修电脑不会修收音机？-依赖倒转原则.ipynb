{
 "cells": [
  {
   "cell_type": "code",
   "execution_count": 1,
   "metadata": {},
   "outputs": [],
   "source": [
    "#依赖倒转：抽象不应该依赖与细节，细节应该依赖于抽象\n",
    "#就是要针对接口编程，不要对实现编程"
   ]
  },
  {
   "cell_type": "code",
   "execution_count": null,
   "metadata": {},
   "outputs": [],
   "source": [
    "#里氏代换原则：一个软件实体如果使用的是一个父类的话，那么一定适用于其子类\n",
    "#而且它察觉不出父类对象和子类对象的区别。也就是说，在软件里面，\n",
    "#把父类替换成他的子类，程序的行为没有变化\n",
    "#简单的说，子类型必须能够替换掉他们的父类型"
   ]
  }
 ],
 "metadata": {
  "kernelspec": {
   "display_name": "Python 3",
   "language": "python",
   "name": "python3"
  },
  "language_info": {
   "codemirror_mode": {
    "name": "ipython",
    "version": 3
   },
   "file_extension": ".py",
   "mimetype": "text/x-python",
   "name": "python",
   "nbconvert_exporter": "python",
   "pygments_lexer": "ipython3",
   "version": "3.6.5"
  }
 },
 "nbformat": 4,
 "nbformat_minor": 2
}
