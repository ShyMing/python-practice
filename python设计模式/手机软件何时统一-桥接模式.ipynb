{
 "cells": [
  {
   "cell_type": "code",
   "execution_count": 1,
   "metadata": {},
   "outputs": [],
   "source": [
    "# 合成/聚合复用原则（CARP）:尽量使用合成/聚合，尽量不要使用类继承"
   ]
  },
  {
   "cell_type": "code",
   "execution_count": 2,
   "metadata": {},
   "outputs": [],
   "source": [
    "# 聚合表示一种弱的’拥有‘关系，体现的是A对象可以包含B对象，\n",
    "# 但B对象不是A对象的一部分;合成则是一种强的拥有关系，体现了\n",
    "# 严格的部分和整体的关系，部分和整体的生命周期一样"
   ]
  },
  {
   "cell_type": "code",
   "execution_count": 3,
   "metadata": {},
   "outputs": [],
   "source": [
    "# 优先使用对象的合成/聚合将有助于你保持每个类被封装，并被集中\n",
    "# 在单个任务上。这样类和类继承层次会保持较小规模，并且不太可能增长为\n",
    "# 不可控制的庞然大物"
   ]
  },
  {
   "cell_type": "code",
   "execution_count": 4,
   "metadata": {},
   "outputs": [],
   "source": [
    "# 桥接模式（Bridge）：将抽象部分与它的实现部分分离，使得它们都可以独立地\n",
    "# 变化"
   ]
  },
  {
   "cell_type": "code",
   "execution_count": 11,
   "metadata": {},
   "outputs": [],
   "source": [
    "from abc import ABC, abstractmethod\n",
    "import functools\n",
    "\n",
    "# 手机软件\n",
    "class handsetSoft(ABC):\n",
    "    @abstractmethod\n",
    "    def run(self):\n",
    "        pass\n",
    "    \n",
    "# 手机游戏\n",
    "class handsetGame(handsetSoft):\n",
    "    def run(self):\n",
    "        print(\"运行手机游戏\")\n",
    "        \n",
    "# 手机通讯录\n",
    "class handsetAL(handsetSoft):\n",
    "    def run(self):\n",
    "        print(\"运行手机通讯录\")\n",
    "        \n",
    "# 手机类\n",
    "class handset(ABC):\n",
    "    def __init__(self, soft = None):\n",
    "        self.soft = soft\n",
    "    \n",
    "    @abstractmethod\n",
    "    def run(self):\n",
    "        pass\n",
    "    \n",
    "# M品牌手机类\n",
    "class handsetM(ABC):\n",
    "    def run(self):\n",
    "        if self.soft is not None:\n",
    "            print('M品牌')\n",
    "            self.soft.run()\n",
    "        \n",
    "# N品牌手机类\n",
    "class handsetN(ABC):\n",
    "    def run(self):\n",
    "        if self.soft is not None:\n",
    "            print('M品牌')\n",
    "            self.soft.run()"
   ]
  },
  {
   "cell_type": "code",
   "execution_count": 12,
   "metadata": {},
   "outputs": [
    {
     "name": "stdout",
     "output_type": "stream",
     "text": [
      "M品牌\n",
      "运行手机游戏\n",
      "M品牌\n",
      "运行手机通讯录\n"
     ]
    }
   ],
   "source": [
    "g = handsetGame()\n",
    "al = handsetAL()\n",
    "m = handsetM()\n",
    "n = handsetN()\n",
    "m.soft = g\n",
    "n.soft = al\n",
    "m.run()\n",
    "n.run()"
   ]
  },
  {
   "cell_type": "code",
   "execution_count": null,
   "metadata": {},
   "outputs": [],
   "source": []
  }
 ],
 "metadata": {
  "kernelspec": {
   "display_name": "Python 3",
   "language": "python",
   "name": "python3"
  },
  "language_info": {
   "codemirror_mode": {
    "name": "ipython",
    "version": 3
   },
   "file_extension": ".py",
   "mimetype": "text/x-python",
   "name": "python",
   "nbconvert_exporter": "python",
   "pygments_lexer": "ipython3",
   "version": "3.6.5"
  }
 },
 "nbformat": 4,
 "nbformat_minor": 2
}
