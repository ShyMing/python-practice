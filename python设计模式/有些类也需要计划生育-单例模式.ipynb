{
 "cells": [
  {
   "cell_type": "code",
   "execution_count": 1,
   "metadata": {},
   "outputs": [],
   "source": [
    "# 单例模式（singleton）:保证一个类仅有一个实例，\n",
    "# 并提供一个访问它的全局访问点\n",
    "# 通常我们可以让一个全局变量使得一个对象被访问，但是它不能防止你实例化\n",
    "# 多个对象。一个最好的办法是，让类自身负责保存它的唯一实例。这个类可以保证\n",
    "# 没有其他实例可以被创建，并且它可以提供一个访问该实例的方法"
   ]
  },
  {
   "cell_type": "code",
   "execution_count": 2,
   "metadata": {},
   "outputs": [],
   "source": [
    "# python实现有点特殊"
   ]
  },
  {
   "cell_type": "code",
   "execution_count": 38,
   "metadata": {},
   "outputs": [],
   "source": [
    "# 使用__new__\n",
    "# 使用一个类保护属性来确保只有一个实例被创建，多线程可能会出问题\n",
    "# 因为每个线程觉得自己可能都是第一个创建的\n",
    "# 通过继承__new__方法创建唯一实例，注意对弈Singleton也只能创建一个，因为__new__方法是它的\n",
    "# 你当然可以每个类都写一个这样的__new__，不过这样就违背我们的原则了，复用！\n",
    "class Singleton(object):\n",
    "    def __new__(cls, *args, **kw):\n",
    "        if not hasattr(cls, '_instance'):\n",
    "            cls._instance = super().__new__(cls, *args, **kw)\n",
    "        return cls._instance\n",
    "    \n",
    "class foo(Singleton):\n",
    "    pass"
   ]
  },
  {
   "cell_type": "code",
   "execution_count": 55,
   "metadata": {},
   "outputs": [],
   "source": [
    "# 装饰器版本 在装饰中保留一个自有变量（这个不会被回收），所以可以放心的实现单例模式\n",
    "def Singleton(cls):\n",
    "    instances = {}\n",
    "    def getinstance(*args, **kw):\n",
    "        if cls not in instances:\n",
    "            instances[cls] = cls(*args, **kw)\n",
    "        return instances[cls]\n",
    "    return getinstance\n",
    "\n",
    "@Singleton\n",
    "class foo:\n",
    "    pass"
   ]
  },
  {
   "cell_type": "code",
   "execution_count": 57,
   "metadata": {},
   "outputs": [
    {
     "data": {
      "text/plain": [
       "<__main__.foo at 0x7fc5dc179518>"
      ]
     },
     "execution_count": 57,
     "metadata": {},
     "output_type": "execute_result"
    }
   ],
   "source": [
    "foo()"
   ]
  },
  {
   "cell_type": "code",
   "execution_count": 61,
   "metadata": {},
   "outputs": [],
   "source": [
    "# 最最简单的方法就是在单文件中定义单例的类，然后在里面实例化，第一次运行时会编译pyc文件，也就是说其他文件载入的时候都是\n",
    "# 载入同一个编译文件中的东西，实例也就是同一个了，这个对于多线程也是成立的,python可以说自带单例"
   ]
  },
  {
   "cell_type": "code",
   "execution_count": null,
   "metadata": {},
   "outputs": [],
   "source": []
  }
 ],
 "metadata": {
  "kernelspec": {
   "display_name": "Python 3",
   "language": "python",
   "name": "python3"
  },
  "language_info": {
   "codemirror_mode": {
    "name": "ipython",
    "version": 3
   },
   "file_extension": ".py",
   "mimetype": "text/x-python",
   "name": "python",
   "nbconvert_exporter": "python",
   "pygments_lexer": "ipython3",
   "version": "3.6.5"
  }
 },
 "nbformat": 4,
 "nbformat_minor": 2
}
