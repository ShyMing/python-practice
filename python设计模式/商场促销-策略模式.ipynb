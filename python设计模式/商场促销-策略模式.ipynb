{
 "cells": [
  {
   "cell_type": "code",
   "execution_count": 1,
   "metadata": {},
   "outputs": [],
   "source": [
    "#类的方式\n",
    "from abc import ABC, abstractmethod\n",
    "from collections import namedtuple\n",
    "\n",
    "Customer = namedtuple('Customer', 'name, fidelity')\n",
    "\n",
    "class lineItem:\n",
    "    \n",
    "    def __init__(self, product, quantity, price):\n",
    "        self.product = product\n",
    "        self.quantity = quantity\n",
    "        self.price = price\n",
    "    \n",
    "    def total(self):\n",
    "        return self.price * self.quantity\n",
    "    \n",
    "class Order:\n",
    "    \n",
    "    def __init__(self, customer, cart, promotion = None):\n",
    "        self.customer = customer\n",
    "        self.cart = list(cart)\n",
    "        self.promotion = promotion\n",
    "        \n",
    "    def total(self):\n",
    "        if not hasattr(self, '__total'):\n",
    "            self.__total = sum(item.total() for item in cart)\n",
    "        return self.__total\n",
    "    \n",
    "    \n",
    "    def due(self):\n",
    "        if self.promotion is None:\n",
    "            discount = 0\n",
    "        else:\n",
    "            discount = self.promotion.discount(self)\n",
    "        return self.total() - discount\n",
    "    \n",
    "    def __repr__(self):\n",
    "        fmt = '<Order total: {:.2f} due: {:.2f}>'\n",
    "        return fmt.format(self.total(), self.due())\n",
    "    \n",
    "#定义抽象基类\n",
    "class Promotion(ABC):\n",
    "    @abstractmethod\n",
    "    def discount(self, order):\n",
    "        \"\"\"打折抽象类\"\"\"\n",
    "\n",
    "class fidelityPromo(Promotion):\n",
    "    def discount(self, order):\n",
    "        return order.total() * 0.05 if order.customer.fidelity >= 1000 else 0\n",
    "    \n",
    "class bulkItemPromo(Promotion):\n",
    "    def discount(self, order):\n",
    "        discount = 0\n",
    "        for item in order.cart:\n",
    "            if item.quantity >= 20:\n",
    "                discount += item.total() * 0.1\n",
    "        return discount\n",
    "    \n",
    "class largeOrderPromo(Promotion):\n",
    "    def discount(self, order):\n",
    "        items = {item.product for item in order.cart}\n",
    "        if len(items) > 0:\n",
    "            return order.total() * 0.07\n",
    "        return 0"
   ]
  },
  {
   "cell_type": "code",
   "execution_count": 2,
   "metadata": {},
   "outputs": [
    {
     "name": "stdout",
     "output_type": "stream",
     "text": [
      "<Order total: 135.00 due: 135.00>\n",
      "<Order total: 135.00 due: 128.25>\n"
     ]
    }
   ],
   "source": [
    "joe = Customer('John Doe', 0)\n",
    "ann = Customer('Ann Smith', 1100)\n",
    "cart = [\n",
    "    lineItem('banana', 4, 5),\n",
    "    lineItem('apple', 10, 1.5),\n",
    "    lineItem('watermellon', 20, 5)\n",
    "]\n",
    "print(Order(joe, cart, fidelityPromo()))\n",
    "print(Order(ann, cart, fidelityPromo()))"
   ]
  },
  {
   "cell_type": "code",
   "execution_count": 3,
   "metadata": {},
   "outputs": [],
   "source": [
    "#函数实现 在函数是一等对象的情况下 这种方式会好很多，不用每次都创建一个实例算法，虽说可以用单例解决\n",
    "from collections import namedtuple\n",
    "\n",
    "Customer = namedtuple('Customer', 'name, fidelity')\n",
    "\n",
    "class lineItem:\n",
    "    \n",
    "    def __init__(self, product, quantity, price):\n",
    "        self.product = product\n",
    "        self.quantity = quantity\n",
    "        self.price = price\n",
    "    \n",
    "    def total(self):\n",
    "        return self.price * self.quantity\n",
    "    \n",
    "class Order:\n",
    "    \n",
    "    def __init__(self, customer, cart, promotion = None):\n",
    "        self.customer = customer\n",
    "        self.cart = list(cart)\n",
    "        self.promotion = promotion\n",
    "        \n",
    "    def total(self):\n",
    "        if not hasattr(self, '__total'):\n",
    "            self.__total = sum(item.total() for item in cart)\n",
    "        return self.__total\n",
    "    \n",
    "    \n",
    "    def due(self):\n",
    "        if self.promotion is None:\n",
    "            discount = 0\n",
    "        else:\n",
    "            discount = self.promotion(self)\n",
    "        return self.total() - discount\n",
    "    \n",
    "    def __repr__(self):\n",
    "        fmt = '<Order total: {:.2f} due: {:.2f}>'\n",
    "        return fmt.format(self.total(), self.due())\n",
    "    \n",
    "\n",
    "def fidelityPromo(order):\n",
    "    return order.total() * 0.05 if order.customer.fidelity >= 1000 else 0\n",
    "    \n",
    "def bulkItemPromo(order):\n",
    "    discount = 0\n",
    "    for item in order.cart:\n",
    "        if item.quantity >= 20:\n",
    "            discount += item.total() * 0.1\n",
    "    return discount\n",
    "    \n",
    "def largeOrderPromo(order):\n",
    "    items = {item.product for item in order.cart}\n",
    "    if len(items) > 0:\n",
    "        return order.total() * 0.07\n",
    "    return 0"
   ]
  },
  {
   "cell_type": "code",
   "execution_count": 4,
   "metadata": {},
   "outputs": [
    {
     "name": "stdout",
     "output_type": "stream",
     "text": [
      "<Order total: 135.00 due: 135.00>\n",
      "<Order total: 135.00 due: 128.25>\n"
     ]
    }
   ],
   "source": [
    "joe = Customer('John Doe', 0)\n",
    "ann = Customer('Ann Smith', 1100)\n",
    "cart = [\n",
    "    lineItem('banana', 4, 5),\n",
    "    lineItem('apple', 10, 1.5),\n",
    "    lineItem('watermellon', 20, 5)\n",
    "]\n",
    "print(Order(joe, cart, fidelityPromo))\n",
    "print(Order(ann, cart, fidelityPromo))"
   ]
  },
  {
   "cell_type": "code",
   "execution_count": 5,
   "metadata": {
    "scrolled": true
   },
   "outputs": [
    {
     "name": "stdout",
     "output_type": "stream",
     "text": [
      "<Order total: 135.00 due: 125.00>\n",
      "<Order total: 135.00 due: 125.00>\n"
     ]
    }
   ],
   "source": [
    "#自动选择最好的算法 利用反射(python的内省)\n",
    "promos = [globals()[name] for name in globals()\n",
    "    if name.endswith('Promo')\n",
    "    and name != 'bestPromo'\n",
    "]\n",
    "\n",
    "def bestPromo(order):\n",
    "    return max(promo(order) for promo in promos)\n",
    "\n",
    "print(Order(joe, cart, bestPromo))\n",
    "print(Order(ann, cart, bestPromo))"
   ]
  },
  {
   "cell_type": "code",
   "execution_count": 13,
   "metadata": {},
   "outputs": [],
   "source": [
    "#利用装饰器进行选择\n",
    "#函数实现 在函数是一等对象的情况下 这种方式会好很多，不用每次都创建一个实例算法，虽说可以用单例解决\n",
    "from collections import namedtuple\n",
    "import functools\n",
    "\n",
    "Customer = namedtuple('Customer', 'name, fidelity')\n",
    "\n",
    "class lineItem:\n",
    "    \n",
    "    def __init__(self, product, quantity, price):\n",
    "        self.product = product\n",
    "        self.quantity = quantity\n",
    "        self.price = price\n",
    "    \n",
    "    def total(self):\n",
    "        return self.price * self.quantity\n",
    "    \n",
    "class Order:\n",
    "    \n",
    "    def __init__(self, customer, cart, promotion = None):\n",
    "        self.customer = customer\n",
    "        self.cart = list(cart)\n",
    "        self.promotion = promotion\n",
    "        \n",
    "    def total(self):\n",
    "        if not hasattr(self, '__total'):\n",
    "            self.__total = sum(item.total() for item in cart)\n",
    "        return self.__total\n",
    "    \n",
    "    \n",
    "    def due(self):\n",
    "        if self.promotion is None:\n",
    "            discount = 0\n",
    "        else:\n",
    "            discount = self.promotion(self)\n",
    "        return self.total() - discount\n",
    "    \n",
    "    def __repr__(self):\n",
    "        fmt = '<Order total: {:.2f} due: {:.2f}>'\n",
    "        return fmt.format(self.total(), self.due())\n",
    "\n",
    "promos = []\n",
    "def promotion(promoFunc):\n",
    "    promos.append(promoFunc)\n",
    "    return promoFunc\n",
    "\n",
    "@promotion\n",
    "def fidelityPromo(order):\n",
    "    return order.total() * 0.05 if order.customer.fidelity >= 1000 else 0\n",
    "\n",
    "@promotion\n",
    "def bulkItemPromo(order):\n",
    "    discount = 0\n",
    "    for item in order.cart:\n",
    "        if item.quantity >= 20:\n",
    "            discount += item.total() * 0.1\n",
    "    return discount\n",
    "\n",
    "@promotion\n",
    "def largeOrderPromo(order):\n",
    "    items = {item.product for item in order.cart}\n",
    "    if len(items) > 0:\n",
    "        return order.total() * 0.07\n",
    "    return 0\n",
    "\n",
    "def bestPromo(order):\n",
    "    return max(promo(order) for promo in promos)"
   ]
  },
  {
   "cell_type": "code",
   "execution_count": 14,
   "metadata": {},
   "outputs": [
    {
     "name": "stdout",
     "output_type": "stream",
     "text": [
      "<Order total: 135.00 due: 125.00>\n",
      "<Order total: 135.00 due: 125.00>\n"
     ]
    }
   ],
   "source": [
    "print(Order(joe, cart, bestPromo))\n",
    "print(Order(ann, cart, bestPromo))"
   ]
  },
  {
   "cell_type": "code",
   "execution_count": 12,
   "metadata": {},
   "outputs": [
    {
     "data": {
      "text/plain": [
       "()"
      ]
     },
     "execution_count": 12,
     "metadata": {},
     "output_type": "execute_result"
    }
   ],
   "source": [
    "fidelityPromo.__code__.co_freevars"
   ]
  },
  {
   "cell_type": "code",
   "execution_count": null,
   "metadata": {},
   "outputs": [],
   "source": []
  }
 ],
 "metadata": {
  "kernelspec": {
   "display_name": "Python 3",
   "language": "python",
   "name": "python3"
  },
  "language_info": {
   "codemirror_mode": {
    "name": "ipython",
    "version": 3
   },
   "file_extension": ".py",
   "mimetype": "text/x-python",
   "name": "python",
   "nbconvert_exporter": "python",
   "pygments_lexer": "ipython3",
   "version": "3.6.5"
  }
 },
 "nbformat": 4,
 "nbformat_minor": 2
}
