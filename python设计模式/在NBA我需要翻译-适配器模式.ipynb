{
 "cells": [
  {
   "cell_type": "code",
   "execution_count": 1,
   "metadata": {},
   "outputs": [],
   "source": [
    "# 适配器模式（Adapter）：将一个类的接口转换成客户希望的另外一个接口。\n",
    "# Adapter模式使得原本由于接口而不能在一起工作的那些类可以一起工作"
   ]
  },
  {
   "cell_type": "code",
   "execution_count": 8,
   "metadata": {},
   "outputs": [],
   "source": [
    "from abc import ABC, abstractmethod\n",
    "\n",
    "class Player(ABC):\n",
    "    def __init__(self, name):\n",
    "        self._name = name\n",
    "    \n",
    "    @abstractmethod\n",
    "    def attack(self):\n",
    "        pass\n",
    "    \n",
    "    @abstractmethod\n",
    "    def defense(self):\n",
    "        pass\n",
    "    \n",
    "class forwards(Player):\n",
    "    def __init__(self, name):\n",
    "        super().__init__(name)\n",
    "        \n",
    "    def attack(self):\n",
    "        print(\"forwards {0} attack\".format(self._name))\n",
    "        \n",
    "    def defense(self):\n",
    "        print(\"forwards {0} defense\".format(self._name))\n",
    "        \n",
    "class center(Player):\n",
    "    def __init__(self, name):\n",
    "        super().__init__(name)\n",
    "        \n",
    "    def attack(self):\n",
    "        print(\"Center {0} attack\".format(self._name))\n",
    "        \n",
    "    def defense(self):\n",
    "        print(\"Center {0} defense\".format(self._name))\n",
    "        \n",
    "class guards(Player):\n",
    "    def __init__(self, name):\n",
    "        super().__init__(name)\n",
    "        \n",
    "    def attack(self):\n",
    "        print(\"guards {0} attack\".format(self._name))\n",
    "        \n",
    "    def defense(self):\n",
    "        print(\"guards {0} defense\".format(self._name))"
   ]
  },
  {
   "cell_type": "code",
   "execution_count": 9,
   "metadata": {},
   "outputs": [
    {
     "name": "stdout",
     "output_type": "stream",
     "text": [
      "forwards 杨中德 attack\n",
      "Center 陈瑞 attack\n",
      "guards 徐子云 attack\n"
     ]
    }
   ],
   "source": [
    "y = forwards(\"杨中德\")\n",
    "y.attack()\n",
    "c = center(\"陈瑞\")\n",
    "c.attack()\n",
    "x = guards(\"徐子云\")\n",
    "x.attack()"
   ]
  },
  {
   "cell_type": "code",
   "execution_count": 12,
   "metadata": {},
   "outputs": [],
   "source": [
    "class chineseCenter(Player):\n",
    "    def __init__(self, name):\n",
    "        super().__init__(name)\n",
    "        \n",
    "    def attack(self):\n",
    "        print(\"中国中锋 {0} 进攻\".format(self._name))\n",
    "        \n",
    "    def defense(self):\n",
    "        print(\"中国中锋 {0} 进攻\".format(self._name))"
   ]
  },
  {
   "cell_type": "code",
   "execution_count": 13,
   "metadata": {},
   "outputs": [],
   "source": [
    "# 适配者\n",
    "class Translator:\n",
    "    def __init__(self, player):\n",
    "        self.player = player\n",
    "        \n",
    "    def attack(self):\n",
    "        self.player.attack()\n",
    "        \n",
    "    def defense(self):\n",
    "        self.player.defense()"
   ]
  },
  {
   "cell_type": "code",
   "execution_count": 14,
   "metadata": {},
   "outputs": [
    {
     "name": "stdout",
     "output_type": "stream",
     "text": [
      "forwards 杨中德 attack\n",
      "Center 陈瑞 attack\n",
      "guards 徐子云 attack\n",
      "中国中锋 梁敏明 进攻\n"
     ]
    }
   ],
   "source": [
    "y = forwards(\"杨中德\")\n",
    "y.attack()\n",
    "c = center(\"陈瑞\")\n",
    "c.attack()\n",
    "x = guards(\"徐子云\")\n",
    "x.attack()\n",
    "l = chineseCenter(\"梁敏明\")\n",
    "t = Translator(l)\n",
    "t.attack()"
   ]
  },
  {
   "cell_type": "code",
   "execution_count": null,
   "metadata": {},
   "outputs": [],
   "source": []
  }
 ],
 "metadata": {
  "kernelspec": {
   "display_name": "Python 3",
   "language": "python",
   "name": "python3"
  },
  "language_info": {
   "codemirror_mode": {
    "name": "ipython",
    "version": 3
   },
   "file_extension": ".py",
   "mimetype": "text/x-python",
   "name": "python",
   "nbconvert_exporter": "python",
   "pygments_lexer": "ipython3",
   "version": "3.6.5"
  }
 },
 "nbformat": 4,
 "nbformat_minor": 2
}
