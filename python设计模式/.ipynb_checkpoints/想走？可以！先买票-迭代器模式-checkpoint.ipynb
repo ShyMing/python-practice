{
 "cells": [
  {
   "cell_type": "code",
   "execution_count": 1,
   "metadata": {},
   "outputs": [],
   "source": [
    "# 迭代器模式（Iterator）:提供一种方法顺序访问一个聚合对象中哥哥元素，而又\n",
    "# 不暴露对象的内部表示"
   ]
  },
  {
   "cell_type": "code",
   "execution_count": 2,
   "metadata": {},
   "outputs": [],
   "source": [
    "# 当你需要访问一个聚合对象，而且不管这些对象是什么都需要遍历的时候，你就应\n",
    "# 该考虑用迭代器模式。\n",
    "# 你需要以多种方式遍历时，可以考虑用迭代者模式\n",
    "# 为遍历不同的聚合对象提供如开始，下一个，是否结束，当前那一项等统一接口"
   ]
  },
  {
   "cell_type": "code",
   "execution_count": 9,
   "metadata": {},
   "outputs": [],
   "source": [
    "# 定义迭代器抽象类\n",
    "from abc import ABC, abstractmethod\n",
    "\n",
    "class iIterator(ABC):\n",
    "    @abstractmethod\n",
    "    def First(self):\n",
    "        pass\n",
    "    \n",
    "    @abstractmethod\n",
    "    def Next(self):\n",
    "        pass\n",
    "\n",
    "    @abstractmethod\n",
    "    def IsDone(self):\n",
    "        pass\n",
    "\n",
    "    @abstractmethod\n",
    "    def CurrentItem(self):\n",
    "        pass\n",
    "\n",
    "    \n",
    "# 聚集抽象类\n",
    "class Aggregate(ABC):\n",
    "    @abstractmethod\n",
    "    def createIterator(self):\n",
    "        pass\n",
    "    \n",
    "#具体迭代器类\n",
    "class concreteIterator(iIterator):\n",
    "    def __init__(self, aggregate):\n",
    "        self.aggregate = aggregate\n",
    "        self.current = -1\n",
    "        \n",
    "    def First(self):\n",
    "        return self.aggregate[0]\n",
    "        \n",
    "    def Next(self):\n",
    "        self.current += 1\n",
    "        if self.current < len(self.aggregate):\n",
    "            return self.aggregate[self.current]\n",
    "        return None\n",
    "    \n",
    "    def IsDone(self):\n",
    "        if self.current >= len(self.aggregate):\n",
    "            return True\n",
    "        else:\n",
    "            return False\n",
    "        \n",
    "    def CurrentItem(self):\n",
    "        if self.current > 0 and self.current < len(self.aggregate):\n",
    "            return self.aggregate[self.current]\n",
    "        return None\n",
    "    \n",
    "# 具体聚合对象\n",
    "class concreteAggregate(Aggregate):\n",
    "    def __init__(self, L):\n",
    "        self.L = L\n",
    "    \n",
    "    def createIterator(self):\n",
    "        return concreteIterator(self.L)\n",
    "    \n",
    "    def __len__(self):\n",
    "        return len(L)"
   ]
  },
  {
   "cell_type": "code",
   "execution_count": 17,
   "metadata": {},
   "outputs": [],
   "source": [
    "a = concreteAggregate([1,2,3,4])\n",
    "i = a.createIterator()"
   ]
  },
  {
   "cell_type": "code",
   "execution_count": 18,
   "metadata": {},
   "outputs": [
    {
     "data": {
      "text/plain": [
       "1"
      ]
     },
     "execution_count": 18,
     "metadata": {},
     "output_type": "execute_result"
    }
   ],
   "source": [
    "i.Next()"
   ]
  },
  {
   "cell_type": "code",
   "execution_count": 19,
   "metadata": {},
   "outputs": [],
   "source": [
    "# 其实在python可以使用__iter__和__next__来实现迭代器对象\n",
    "import re\n",
    "import reprlib\n",
    "\n",
    "RE_WORD = re.compile('\\w+')\n",
    "\n",
    "# 定义了__iter__的类，相当于聚合对象（可迭代对象）的具体类\n",
    "class Sentence:\n",
    "    def __init__(self, text):\n",
    "        self.text = text\n",
    "        self.words = RE_WORD.findall(text)\n",
    "        \n",
    "    def __iter__(self):\n",
    "        return SentenceIterator(self.words)\n",
    "    \n",
    "    def __repr__(self):\n",
    "        return 'Sentence({})'.format(reprlib.repr(self.text))\n",
    "    \n",
    "# 定义了 __next__ 和 __iter__的类，相当于迭代器具体类\n",
    "class SentenceIterator:\n",
    "    def __init__(self, words):\n",
    "        self.words = words\n",
    "        self.index = 0\n",
    "        \n",
    "    def __next__(self):\n",
    "        try:\n",
    "            word = self.words[self.index]\n",
    "        except IndexError:\n",
    "            raise StopIteration('没有更多元素了')\n",
    "        self.index += 1\n",
    "        return word\n",
    "    \n",
    "    def __iter__(self):\n",
    "        return self"
   ]
  },
  {
   "cell_type": "code",
   "execution_count": 20,
   "metadata": {},
   "outputs": [],
   "source": [
    "# 迭代器模式就是分离了集合对象的遍历行为，抽象出一个迭代器类来负责，\n",
    "# 这样既可以不暴露集合的内部结构，又可以让外部代码透明访问集合内部数据"
   ]
  },
  {
   "cell_type": "code",
   "execution_count": null,
   "metadata": {},
   "outputs": [],
   "source": []
  }
 ],
 "metadata": {
  "kernelspec": {
   "display_name": "Python 3",
   "language": "python",
   "name": "python3"
  },
  "language_info": {
   "codemirror_mode": {
    "name": "ipython",
    "version": 3
   },
   "file_extension": ".py",
   "mimetype": "text/x-python",
   "name": "python",
   "nbconvert_exporter": "python",
   "pygments_lexer": "ipython3",
   "version": "3.6.5"
  }
 },
 "nbformat": 4,
 "nbformat_minor": 2
}
