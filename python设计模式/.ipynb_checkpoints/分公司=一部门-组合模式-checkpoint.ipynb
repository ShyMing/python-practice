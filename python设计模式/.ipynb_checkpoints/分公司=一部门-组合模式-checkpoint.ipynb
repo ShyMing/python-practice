{
 "cells": [
  {
   "cell_type": "code",
   "execution_count": 1,
   "metadata": {},
   "outputs": [],
   "source": [
    "# 组合模式：将对象组合成树形结构以表示‘部分-整体’的层次结构。\n",
    "# 组合模式使得用户对单个对象和组合对象的使用具有一致性\n",
    "# 需求中是体现部分与整体层次的结构时，以及你希望用户可以忽略组合对象\n",
    "# 与单个对象的不同，统一的使用组合结构中的所有对象时，就应该考虑组合模式了"
   ]
  },
  {
   "cell_type": "code",
   "execution_count": 7,
   "metadata": {},
   "outputs": [],
   "source": [
    "from abc import ABC, abstractmethod\n",
    "\n",
    "class Compony(ABC):\n",
    "    def __init__(self, name):\n",
    "        self.name = name\n",
    "        \n",
    "    @abstractmethod\n",
    "    def add(self, c):\n",
    "        pass\n",
    "    \n",
    "    @abstractmethod\n",
    "    def remove(self, c):\n",
    "        pass\n",
    "    \n",
    "    @abstractmethod\n",
    "    def display(self, depth):\n",
    "        pass\n",
    "    \n",
    "    @abstractmethod\n",
    "    def duty(self):\n",
    "        pass\n",
    "    \n",
    "class concreteCompony(Compony):\n",
    "    def __init__(self, name):\n",
    "        super().__init__(name)\n",
    "        self.children = []\n",
    "        \n",
    "    def add(self, c):\n",
    "        self.children.append(c)\n",
    "        \n",
    "    def remove(self, c):\n",
    "        self.children.remove(c)\n",
    "        \n",
    "    def display(self, depth = 0):\n",
    "        print('-' * depth + self.name)\n",
    "        for c in self.children:\n",
    "            c.display(depth + 2)\n",
    "            \n",
    "    def duty(self):\n",
    "        for c in self.children:\n",
    "            c.duty()\n",
    "            \n",
    "class HR(Compony):\n",
    "    def __init__(self, name):\n",
    "        super().__init__(name)\n",
    "        \n",
    "    def add(self, c):\n",
    "        pass\n",
    "        \n",
    "    def remove(self, c):\n",
    "        pass\n",
    "        \n",
    "    def display(self, depth = 0):\n",
    "        print('-' * depth + self.name)\n",
    "            \n",
    "    def duty(self):\n",
    "        print(\"{0} 进行员工培训\".format(self.name))\n",
    "        \n",
    "class FD(Compony):\n",
    "    def __init__(self, name):\n",
    "        super().__init__(name)\n",
    "        \n",
    "    def add(self, c):\n",
    "        pass\n",
    "        \n",
    "    def remove(self, c):\n",
    "        pass\n",
    "        \n",
    "    def display(self, depth = 0):\n",
    "        print('-' * depth + self.name)\n",
    "            \n",
    "    def duty(self):\n",
    "        print(\"{0} 财政收支统计\".format(self.name))"
   ]
  },
  {
   "cell_type": "code",
   "execution_count": 8,
   "metadata": {},
   "outputs": [],
   "source": [
    "root = concreteCompony(\"总公司\")\n",
    "sh = concreteCompony(\"上海分公司\")\n",
    "bj = concreteCompony(\"北京分公司\")\n",
    "shhr = HR(\"上海分公司hr\")\n",
    "shfd = FD(\"上海分公司fd\")\n",
    "bjhr = HR(\"北京分公司hr\")\n",
    "bjfd = FD(\"北京分公司fd\")\n",
    "sh.add(shhr)\n",
    "sh.add(shfd)\n",
    "bj.add(bjhr)\n",
    "bj.add(bjfd)\n",
    "root.add(sh)\n",
    "root.add(bj)"
   ]
  },
  {
   "cell_type": "code",
   "execution_count": 9,
   "metadata": {},
   "outputs": [
    {
     "name": "stdout",
     "output_type": "stream",
     "text": [
      "总公司\n",
      "--上海分公司\n",
      "----上海分公司hr\n",
      "----上海分公司fd\n",
      "--北京分公司\n",
      "----北京分公司hr\n",
      "----北京分公司fd\n"
     ]
    }
   ],
   "source": [
    "root.display()"
   ]
  },
  {
   "cell_type": "code",
   "execution_count": 11,
   "metadata": {},
   "outputs": [
    {
     "name": "stdout",
     "output_type": "stream",
     "text": [
      "上海分公司hr 进行员工培训\n",
      "上海分公司fd 财政收支统计\n",
      "北京分公司hr 进行员工培训\n",
      "北京分公司fd 财政收支统计\n"
     ]
    }
   ],
   "source": [
    "root.duty()"
   ]
  },
  {
   "cell_type": "code",
   "execution_count": null,
   "metadata": {},
   "outputs": [],
   "source": []
  }
 ],
 "metadata": {
  "kernelspec": {
   "display_name": "Python 3",
   "language": "python",
   "name": "python3"
  },
  "language_info": {
   "codemirror_mode": {
    "name": "ipython",
    "version": 3
   },
   "file_extension": ".py",
   "mimetype": "text/x-python",
   "name": "python",
   "nbconvert_exporter": "python",
   "pygments_lexer": "ipython3",
   "version": "3.6.5"
  }
 },
 "nbformat": 4,
 "nbformat_minor": 2
}
