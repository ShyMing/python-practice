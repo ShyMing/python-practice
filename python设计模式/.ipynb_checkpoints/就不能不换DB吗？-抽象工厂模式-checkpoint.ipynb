{
 "cells": [
  {
   "cell_type": "code",
   "execution_count": 1,
   "metadata": {},
   "outputs": [],
   "source": [
    "# 抽象工厂模式：提供一个创建一系列或相互依赖队形的接口，而无需指定他们具体的类 "
   ]
  },
  {
   "cell_type": "code",
   "execution_count": 4,
   "metadata": {},
   "outputs": [],
   "source": [
    "from abc import ABC, abstractmethod\n",
    "\n",
    "class User:\n",
    "    def __init__(self, id, name):\n",
    "        self._id = id\n",
    "        self._name = name\n",
    "\n",
    "class iUser(ABC):\n",
    "    @abstractmethod\n",
    "    def insert(self, user):\n",
    "        \"\"\"针对表的插入\"\"\"\n",
    "    @abstractmethod    \n",
    "    def getUser(self, id):\n",
    "        \"\"\"获取表中对应id的项\"\"\"\n",
    "        \n",
    "class sqlUser(iUser):\n",
    "    def insert(self, user):\n",
    "        print(\"在sql server中给User表插入一条记录\")\n",
    "        \n",
    "    def getUser(self, id):\n",
    "        print(\"在sql server中User取出一条记录\")\n",
    "        return None\n",
    "        \n",
    "class accessUser(iUser):\n",
    "    def insert(self, user):\n",
    "        print(\"在access中插入给User表插入一条记录\")\n",
    "        \n",
    "    def getUser(self, id):\n",
    "        print(\"在access中User取出一条记录\")\n",
    "        return None\n",
    "\n",
    "#工厂类\n",
    "class iFactory(ABC):\n",
    "    @abstractmethod\n",
    "    def createUser(self):\n",
    "        \"\"\"创建用户\"\"\"\n",
    "\n",
    "#sql工厂        \n",
    "class sqlFactory(iFactory):\n",
    "    def createUser(self):\n",
    "        return sqlUser()\n",
    "    \n",
    "#access工厂\n",
    "class accessFactory(iFactory):\n",
    "    def createUser(self):\n",
    "        return accessUser()"
   ]
  },
  {
   "cell_type": "code",
   "execution_count": 5,
   "metadata": {},
   "outputs": [
    {
     "name": "stdout",
     "output_type": "stream",
     "text": [
      "在sql server中给User表插入一条记录\n",
      "在sql server中User取出一条记录\n"
     ]
    }
   ],
   "source": [
    "user = User(1, 'liang')\n",
    "factory = sqlFactory()\n",
    "iu = factory.createUser()\n",
    "iu.insert(user)\n",
    "iu.getUser(1)"
   ]
  },
  {
   "cell_type": "code",
   "execution_count": 8,
   "metadata": {},
   "outputs": [],
   "source": [
    "#增加一个表需要增加的代码\n",
    "class Department:\n",
    "    def __init__(self, id, department):\n",
    "        self._id = id\n",
    "        self._department = department\n",
    "\n",
    "class iDepartment(ABC):\n",
    "    @abstractmethod\n",
    "    def insert(self, department):\n",
    "        \"\"\"针对表的插入\"\"\"\n",
    "    @abstractmethod    \n",
    "    def getDepartment(self, id):\n",
    "        \"\"\"获取表中对应id的项\"\"\"\n",
    "        \n",
    "class sqlDepartment(iDepartment):\n",
    "    def insert(self, user):\n",
    "        print(\"在sql server中给Department表插入一条记录\")\n",
    "        \n",
    "    def getDepartment(self, id):\n",
    "        print(\"在sql server中Department取出一条记录\")\n",
    "        return None\n",
    "        \n",
    "class accessDepartment(iDepartment):\n",
    "    def insert(self, user):\n",
    "        print(\"在access中插入给Department表插入一条记录\")\n",
    "        \n",
    "    def getDepartment(self, id):\n",
    "        print(\"在access中Department取出一条记录\")\n",
    "        return None\n",
    "\n",
    "#重写工厂\n",
    "#工厂类\n",
    "class iFactory(ABC):\n",
    "    @abstractmethod\n",
    "    def createUser(self):\n",
    "        \"\"\"创建用户\"\"\"\n",
    "        \n",
    "    @abstractmethod\n",
    "    def createDepartment(self):\n",
    "        \"\"\"创建Department\"\"\"\n",
    "\n",
    "#sql工厂        \n",
    "class sqlFactory(iFactory):\n",
    "    def createUser(self):\n",
    "        return sqlUser()\n",
    "\n",
    "    def createDepartment(self):\n",
    "        return sqlDepartment()\n",
    "    \n",
    "#access工厂\n",
    "class accessFactory(iFactory):\n",
    "    def createUser(self):\n",
    "        return accessUser()\n",
    "\n",
    "    def createDepartment(self):\n",
    "        return accessDepartment()"
   ]
  },
  {
   "cell_type": "code",
   "execution_count": 9,
   "metadata": {},
   "outputs": [
    {
     "name": "stdout",
     "output_type": "stream",
     "text": [
      "在sql server中给User表插入一条记录\n",
      "在sql server中User取出一条记录\n",
      "在sql server中给Department表插入一条记录\n",
      "在sql server中Department取出一条记录\n"
     ]
    }
   ],
   "source": [
    "user = User(1, 'liang')\n",
    "department = Department(1, 'liang')\n",
    "factory = sqlFactory()\n",
    "iu = factory.createUser()\n",
    "iu.insert(user)\n",
    "iu.getUser(1)\n",
    "\n",
    "idm = factory.createDepartment()\n",
    "idm.insert(department)\n",
    "idm.getDepartment(1)"
   ]
  },
  {
   "cell_type": "code",
   "execution_count": 12,
   "metadata": {},
   "outputs": [],
   "source": [
    "#利用简单工厂来改进抽象工厂\n",
    "class dataAccess:\n",
    "    db = 'sqlServer'\n",
    "    \n",
    "    def createUser(self):\n",
    "        result = ''\n",
    "        if self.db == 'sqlServer':\n",
    "            result = sqlUser()\n",
    "        elif self.db == 'access':\n",
    "            result = accessUser()\n",
    "        return result\n",
    "    \n",
    "    def createDepartment(self):\n",
    "        result = ''\n",
    "        if self.db == 'sqlServer':\n",
    "            result = sqlDepartment()\n",
    "        elif self.db == 'access':\n",
    "            result = accessDepartment()\n",
    "        return result"
   ]
  },
  {
   "cell_type": "code",
   "execution_count": 13,
   "metadata": {},
   "outputs": [
    {
     "name": "stdout",
     "output_type": "stream",
     "text": [
      "在sql server中给User表插入一条记录\n",
      "在sql server中User取出一条记录\n",
      "在sql server中给Department表插入一条记录\n",
      "在sql server中Department取出一条记录\n"
     ]
    }
   ],
   "source": [
    "user = User(1, 'liang')\n",
    "department = Department(1, 'liang')\n",
    "factory = dataAccess()\n",
    "iu = factory.createUser()\n",
    "iu.insert(user)\n",
    "iu.getUser(1)\n",
    "\n",
    "idm = factory.createDepartment()\n",
    "idm.insert(department)\n",
    "idm.getDepartment(1)"
   ]
  },
  {
   "cell_type": "code",
   "execution_count": 43,
   "metadata": {},
   "outputs": [],
   "source": [
    "# 可是如果增加方法还是需要添加判断语句，利用python自省，也就是反射\n",
    "class dataAccess:\n",
    "    db = 'sql'\n",
    "    \n",
    "    def createUser(self):\n",
    "        try:\n",
    "            result = [globals()[name] for name in globals()\n",
    "                      if name.endswith('User')\n",
    "                      and name.startswith(self.db)][0]\n",
    "            return result()\n",
    "        except IndexError:\n",
    "            raise IndexError(\"没有这个数据库\")\n",
    "    \n",
    "    def createDepartment(self):\n",
    "        try:\n",
    "            result = [globals()[name] for name in globals()\n",
    "                      if name.endswith('Department')\n",
    "                      and name.startswith(self.db)][0]\n",
    "            return result()\n",
    "        except IndexError:\n",
    "            raise IndexError(\"没有这个数据库\")"
   ]
  },
  {
   "cell_type": "code",
   "execution_count": 44,
   "metadata": {},
   "outputs": [
    {
     "name": "stdout",
     "output_type": "stream",
     "text": [
      "在sql server中给User表插入一条记录\n",
      "在sql server中User取出一条记录\n",
      "在sql server中给Department表插入一条记录\n",
      "在sql server中Department取出一条记录\n"
     ]
    }
   ],
   "source": [
    "user = User(1, 'liang')\n",
    "department = Department(1, 'liang')\n",
    "factory = dataAccess()\n",
    "iu = factory.createUser()\n",
    "iu.insert(user)\n",
    "iu.getUser(1)\n",
    "\n",
    "idm = factory.createDepartment()\n",
    "idm.insert(department)\n",
    "idm.getDepartment(1)"
   ]
  },
  {
   "cell_type": "code",
   "execution_count": null,
   "metadata": {},
   "outputs": [],
   "source": []
  }
 ],
 "metadata": {
  "kernelspec": {
   "display_name": "Python 3",
   "language": "python",
   "name": "python3"
  },
  "language_info": {
   "codemirror_mode": {
    "name": "ipython",
    "version": 3
   },
   "file_extension": ".py",
   "mimetype": "text/x-python",
   "name": "python",
   "nbconvert_exporter": "python",
   "pygments_lexer": "ipython3",
   "version": "3.6.5"
  }
 },
 "nbformat": 4,
 "nbformat_minor": 2
}
