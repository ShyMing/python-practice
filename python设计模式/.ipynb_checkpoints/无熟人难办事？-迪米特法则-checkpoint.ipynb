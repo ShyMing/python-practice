{
 "cells": [
  {
   "cell_type": "code",
   "execution_count": 1,
   "metadata": {},
   "outputs": [],
   "source": [
    "# 迪米特法则：如果两个类不必彼此直接通信，\n",
    "# 那么这两个类就不应当发生直接的相互作用。\n",
    "# 如果其中一个类需要调用另一个类的某一个\n",
    "# 方法的话，可以通过第三者转发这个调用。"
   ]
  },
  {
   "cell_type": "code",
   "execution_count": null,
   "metadata": {},
   "outputs": [],
   "source": [
    "# 根本思想：是强调了类之间的松耦合\n",
    "# 类之间的耦合越弱，越有利于复用，\n",
    "# 一个处于弱耦合的类被修改，不会对有关系的类造成影响"
   ]
  }
 ],
 "metadata": {
  "kernelspec": {
   "display_name": "Python 3",
   "language": "python",
   "name": "python3"
  },
  "language_info": {
   "codemirror_mode": {
    "name": "ipython",
    "version": 3
   },
   "file_extension": ".py",
   "mimetype": "text/x-python",
   "name": "python",
   "nbconvert_exporter": "python",
   "pygments_lexer": "ipython3",
   "version": "3.6.5"
  }
 },
 "nbformat": 4,
 "nbformat_minor": 2
}
