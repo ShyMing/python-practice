{
 "cells": [
  {
   "cell_type": "code",
   "execution_count": 1,
   "metadata": {},
   "outputs": [],
   "source": [
    "#代理模式(Proxy)： 为其他的对象提供一种代理以控制对这个对象的访问(代理是真正对象的代表)"
   ]
  },
  {
   "cell_type": "code",
   "execution_count": 11,
   "metadata": {},
   "outputs": [],
   "source": [
    "from abc import ABC, abstractmethod\n",
    "class giveGift(ABC):\n",
    "    @abstractmethod\n",
    "    def giveDolls(self):\n",
    "        \"\"\"送洋娃娃\"\"\"\n",
    "        \n",
    "    @abstractmethod\n",
    "    def giveFlowers(self):\n",
    "        \"\"\"送鲜花\"\"\"\n",
    "        \n",
    "    @abstractmethod\n",
    "    def giveChocolate(self):\n",
    "        \"\"\"送巧克力\"\"\"\n",
    "        \n",
    "class schoolGirl:\n",
    "    def __init__(self, name):\n",
    "        self.name = name"
   ]
  },
  {
   "cell_type": "code",
   "execution_count": 14,
   "metadata": {},
   "outputs": [],
   "source": [
    "class pursuit(giveGift):\n",
    "    def __init__(self, girl, name):\n",
    "        self.name = name\n",
    "        self.girl = girl\n",
    "        \n",
    "    def giveDolls(self):\n",
    "        \"\"\"送洋娃娃\"\"\"\n",
    "        print(self.girl.name + ', ' + self.name + '送你洋娃娃')\n",
    "        \n",
    "    def giveFlowers(self):\n",
    "        \"\"\"送鲜花\"\"\"\n",
    "        print(self.girl.name + ', ' + self.name + '送你鲜花')\n",
    "        \n",
    "    def giveChocolate(self):\n",
    "        \"\"\"送巧克力\"\"\"\n",
    "        print(self.girl.name + ', ' + self.name + '送你巧克力')\n",
    "        \n",
    "class proxy(giveGift):\n",
    "    def __init__(self, girl, name):\n",
    "        self.pursuit = pursuit(girl, name)\n",
    "        \n",
    "    def giveDolls(self):\n",
    "        \"\"\"送洋娃娃\"\"\"\n",
    "        self.pursuit.giveDolls()\n",
    "        \n",
    "    def giveFlowers(self):\n",
    "        \"\"\"送鲜花\"\"\"\n",
    "        self.pursuit.giveFlowers()\n",
    "        \n",
    "    def giveChocolate(self):\n",
    "        \"\"\"送巧克力\"\"\"\n",
    "        self.pursuit.giveChocolate()"
   ]
  },
  {
   "cell_type": "code",
   "execution_count": 15,
   "metadata": {},
   "outputs": [
    {
     "name": "stdout",
     "output_type": "stream",
     "text": [
      "jiaojiao, zhuo送你洋娃娃\n"
     ]
    }
   ],
   "source": [
    "jiaojiao = schoolGirl('jiaojiao')\n",
    "\n",
    "daili = proxy(jiaojiao, 'zhuo')\n",
    "daili.giveDolls()"
   ]
  },
  {
   "cell_type": "code",
   "execution_count": null,
   "metadata": {},
   "outputs": [],
   "source": []
  }
 ],
 "metadata": {
  "kernelspec": {
   "display_name": "Python 3",
   "language": "python",
   "name": "python3"
  },
  "language_info": {
   "codemirror_mode": {
    "name": "ipython",
    "version": 3
   },
   "file_extension": ".py",
   "mimetype": "text/x-python",
   "name": "python",
   "nbconvert_exporter": "python",
   "pygments_lexer": "ipython3",
   "version": "3.6.5"
  }
 },
 "nbformat": 4,
 "nbformat_minor": 2
}
