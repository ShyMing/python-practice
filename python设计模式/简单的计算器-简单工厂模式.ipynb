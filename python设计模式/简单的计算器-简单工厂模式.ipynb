{
 "cells": [
  {
   "cell_type": "code",
   "execution_count": 9,
   "metadata": {},
   "outputs": [],
   "source": [
    "class operation(object):\n",
    "    def __init__(self, numA, numB):\n",
    "        self.numA = int(numA)\n",
    "        self.numB = int(numB)\n",
    "        \n",
    "    def getResult(self):\n",
    "        return 0\n",
    "    \n",
    "class addOperation(operation):\n",
    "    def getResult(self):\n",
    "        return self.numA + self.numB\n",
    "    \n",
    "class mulOperation(operation):\n",
    "    def getResult(self):\n",
    "        return self.numA * self.numB\n",
    "    \n",
    "class subOperation(operation):\n",
    "    def getResult(self):\n",
    "        return self.numA - self.numB\n",
    "    \n",
    "class divOperation(operation):\n",
    "    def getResult(self):\n",
    "        return self.numA / self.numB\n",
    "    \n",
    "class operationFactory(object):\n",
    "    def getOperate(A, B, operate):\n",
    "        if operate == '+':\n",
    "            return addOperation(A, B)\n",
    "        elif operate == '-':\n",
    "            return subOperation(A, B)\n",
    "        elif operate == '*':\n",
    "            return mulOperation(A, B)\n",
    "        elif operate == '/':\n",
    "            return divOperation(A, B)\n",
    "        else:\n",
    "            return operation(A, B)"
   ]
  },
  {
   "cell_type": "code",
   "execution_count": 10,
   "metadata": {},
   "outputs": [],
   "source": [
    "oper = operationFactory.getOperate(1, 2, '0')"
   ]
  },
  {
   "cell_type": "code",
   "execution_count": 11,
   "metadata": {},
   "outputs": [
    {
     "data": {
      "text/plain": [
       "0"
      ]
     },
     "execution_count": 11,
     "metadata": {},
     "output_type": "execute_result"
    }
   ],
   "source": [
    "oper.getResult()"
   ]
  },
  {
   "cell_type": "code",
   "execution_count": null,
   "metadata": {},
   "outputs": [],
   "source": []
  }
 ],
 "metadata": {
  "kernelspec": {
   "display_name": "Python 3",
   "language": "python",
   "name": "python3"
  },
  "language_info": {
   "codemirror_mode": {
    "name": "ipython",
    "version": 3
   },
   "file_extension": ".py",
   "mimetype": "text/x-python",
   "name": "python",
   "nbconvert_exporter": "python",
   "pygments_lexer": "ipython3",
   "version": "3.6.5"
  }
 },
 "nbformat": 4,
 "nbformat_minor": 2
}
