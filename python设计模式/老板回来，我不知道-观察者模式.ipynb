{
 "cells": [
  {
   "cell_type": "code",
   "execution_count": 14,
   "metadata": {},
   "outputs": [],
   "source": [
    "# 观察者模式：定义了一种一对多的依赖关系，让多个观察者对象同时舰艇某一个主题对象\n",
    "# 这个主题对象在状态发生变化时，会通知所有的观察者对象，使得它们能够自己更新自己"
   ]
  },
  {
   "cell_type": "code",
   "execution_count": 15,
   "metadata": {},
   "outputs": [],
   "source": [
    "from abc import ABC, abstractmethod\n",
    "\n",
    "class Observe(ABC):\n",
    "    @abstractmethod\n",
    "    def __init__(self, name, sub):\n",
    "        self.name = name\n",
    "        self.sub = sub\n",
    "        \n",
    "    @abstractmethod\n",
    "    def update(self):\n",
    "        \"\"\"更新状态\"\"\"\n",
    "        \n",
    "class Subject(ABC):\n",
    "    @abstractmethod\n",
    "    def __init__(self, action):\n",
    "        self.action = action\n",
    "        self.obs = []\n",
    "        \n",
    "    @abstractmethod\n",
    "    def attach(self, ob):\n",
    "        \"\"\"添加用户\"\"\"\n",
    "        \n",
    "    @abstractmethod\n",
    "    def detach(self, ob):\n",
    "        \"\"\"删除用户\"\"\"\n",
    "    \n",
    "    @abstractmethod\n",
    "    def notify(self):\n",
    "        \"\"\"通知\"\"\""
   ]
  },
  {
   "cell_type": "code",
   "execution_count": 16,
   "metadata": {},
   "outputs": [],
   "source": [
    "class su(Observe):\n",
    "    def __init__(self, name, sub):\n",
    "        self.name = name\n",
    "        self.sub = sub\n",
    "    \n",
    "    def update(self):\n",
    "        print('{},{} 关闭小黄书，继续工作'.format(self.sub.action, self.name))\n",
    "\n",
    "class liang(Observe):\n",
    "    def __init__(self, name, sub):\n",
    "        self.name = name\n",
    "        self.sub = sub\n",
    "    \n",
    "    def update(self):\n",
    "        print('{},{} 关闭小视频，继续工作'.format(self.sub.action, self.name))\n",
    "        \n",
    "class boss(Subject):\n",
    "    def __init__(self, action = ''):\n",
    "        self.action = action\n",
    "        self.obs = []\n",
    "    \n",
    "    def attach(self, ob):\n",
    "        self.obs.append(ob)\n",
    "        \n",
    "    def detach(self, ob):\n",
    "        for o in self.obs:\n",
    "            if o.name == ob.name:\n",
    "                self.obs.remove(o)\n",
    "    \n",
    "    def notify(self):\n",
    "        for o in self.obs:\n",
    "            o.update()"
   ]
  },
  {
   "cell_type": "code",
   "execution_count": 17,
   "metadata": {},
   "outputs": [],
   "source": [
    "hua = boss('我回来了')\n",
    "s = su('苏怡文', hua)\n",
    "l = liang(\"梁敏明\", hua)"
   ]
  },
  {
   "cell_type": "code",
   "execution_count": 18,
   "metadata": {},
   "outputs": [],
   "source": [
    "hua.attach(s)\n",
    "hua.attach(l)\n",
    "hua.detach(s)"
   ]
  },
  {
   "cell_type": "code",
   "execution_count": 19,
   "metadata": {},
   "outputs": [
    {
     "name": "stdout",
     "output_type": "stream",
     "text": [
      "我回来了,梁敏明 关闭小视频，继续工作\n"
     ]
    }
   ],
   "source": [
    "hua.notify()"
   ]
  },
  {
   "cell_type": "code",
   "execution_count": null,
   "metadata": {},
   "outputs": [],
   "source": [
    "# 现实中我们的观察者可能不是同一个类的，并且更新方法也是不一致的，\n",
    "# 如何对不同的类和方法进行通知呢？\n",
    "\n",
    "# 委托：委托就是一种引用方法的类型。一旦为委托分配了方法，委托将于\n",
    "# 该方法具有完全相同的行为，委托方法的使用可以像其他任何方法一样具有\n",
    "# 参数和返回值，委托可以看作对函数的抽象，是函数的‘类’，委托的实例\n",
    "# 代表一个具体的函数\n",
    "\n",
    "# 一个委托可以搭载多个方法，所有的方法被依次唤醒，它可以使得所搭载的\n",
    "# 方法并不需要属于同一个类\n",
    "\n",
    "# 委托对象所搭载的所有方法必须具有相同的原型和形式，也就是拥有相同的参数列表\n",
    "# 和返回值类型"
   ]
  }
 ],
 "metadata": {
  "kernelspec": {
   "display_name": "Python 3",
   "language": "python",
   "name": "python3"
  },
  "language_info": {
   "codemirror_mode": {
    "name": "ipython",
    "version": 3
   },
   "file_extension": ".py",
   "mimetype": "text/x-python",
   "name": "python",
   "nbconvert_exporter": "python",
   "pygments_lexer": "ipython3",
   "version": "3.6.5"
  }
 },
 "nbformat": 4,
 "nbformat_minor": 2
}
