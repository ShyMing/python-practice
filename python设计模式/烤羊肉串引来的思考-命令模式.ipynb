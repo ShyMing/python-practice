{
 "cells": [
  {
   "cell_type": "code",
   "execution_count": 1,
   "metadata": {},
   "outputs": [
    {
     "name": "stdout",
     "output_type": "stream",
     "text": [
      "烤羊肉串！\n",
      "烤羊肉串！\n",
      "烤羊肉串！\n",
      "烤鸡翅！\n",
      "烤羊肉串！\n",
      "烤羊肉串！\n",
      "烤羊肉串！\n"
     ]
    }
   ],
   "source": [
    "# 命令模式（commond）: 将一个请求封装为一个对象，从而使你可用不同的请求对客户\n",
    "# 进行参数化；对请求排队或记录请求日志，以及支持可撤销操作"
   ]
  },
  {
   "cell_type": "code",
   "execution_count": 6,
   "metadata": {},
   "outputs": [
    {
     "name": "stdout",
     "output_type": "stream",
     "text": [
      "烤羊肉串！\n",
      "烤羊肉串！\n",
      "烤羊肉串！\n",
      "烤鸡翅！\n",
      "烤羊肉串！\n",
      "烤羊肉串！\n",
      "烤羊肉串！\n"
     ]
    }
   ],
   "source": [
    "# 紧耦合设计\n",
    "#烤羊肉串者\n",
    "class Barecuer:\n",
    "    def makeMutton(self):\n",
    "        print('烤羊肉串！')\n",
    "    \n",
    "    def bakeChickenWing(self):\n",
    "        print(\"烤鸡翅！\")\n",
    "        \n",
    "#客户端调用\n",
    "boy = Barecuer()\n",
    "boy.makeMutton()\n",
    "boy.makeMutton()\n",
    "boy.makeMutton()\n",
    "boy.bakeChickenWing()\n",
    "boy.makeMutton()\n",
    "boy.makeMutton()\n",
    "boy.makeMutton()"
   ]
  },
  {
   "cell_type": "code",
   "execution_count": 4,
   "metadata": {},
   "outputs": [],
   "source": [
    "# 松耦合后\n",
    "from abc import ABC, abstractmethod\n",
    "\n",
    "class Commond(ABC):\n",
    "    def __init__(self, recevier):\n",
    "        self.recevier = recevier\n",
    "    \n",
    "    @abstractmethod\n",
    "    def excuteCommand(self):\n",
    "        pass\n",
    "    \n",
    "class makeMuttonCommand(Commond):\n",
    "    def excuteCommand(self):\n",
    "        self.recevier.makeMutton()\n",
    "        \n",
    "class bakeChickenWingCommand(Commond):\n",
    "    def excuteCommand(self):\n",
    "        self.recevier.bakeChickenWing()\n",
    "            \n",
    "class waiter:\n",
    "    def __init__(self):\n",
    "        self.orders = []\n",
    "        \n",
    "    def setOrder(self, commond):\n",
    "        self.orders.append(commond)\n",
    "        \n",
    "    def removeOrder(self, commond):\n",
    "        if commond in self.orders:\n",
    "            self.orders.remove(commond)\n",
    "        else:\n",
    "            print(\"您没有这个订单\")\n",
    "        \n",
    "    def notify(self):\n",
    "        for order in self.orders:\n",
    "            order.excuteCommand()"
   ]
  },
  {
   "cell_type": "code",
   "execution_count": 5,
   "metadata": {},
   "outputs": [
    {
     "name": "stdout",
     "output_type": "stream",
     "text": [
      "烤羊肉串！\n",
      "烤鸡翅！\n"
     ]
    }
   ],
   "source": [
    "boy = Barecuer()\n",
    "m1 = makeMuttonCommand(boy)\n",
    "m2 = makeMuttonCommand(boy)\n",
    "b1 = bakeChickenWingCommand(boy)\n",
    "g = waiter()\n",
    "g.setOrder(m1)\n",
    "g.setOrder(m2)\n",
    "g.setOrder(b1)\n",
    "g.removeOrder(m2)\n",
    "g.notify()"
   ]
  },
  {
   "cell_type": "code",
   "execution_count": null,
   "metadata": {},
   "outputs": [],
   "source": []
  }
 ],
 "metadata": {
  "kernelspec": {
   "display_name": "Python 3",
   "language": "python",
   "name": "python3"
  },
  "language_info": {
   "codemirror_mode": {
    "name": "ipython",
    "version": 3
   },
   "file_extension": ".py",
   "mimetype": "text/x-python",
   "name": "python",
   "nbconvert_exporter": "python",
   "pygments_lexer": "ipython3",
   "version": "3.6.5"
  }
 },
 "nbformat": 4,
 "nbformat_minor": 2
}
