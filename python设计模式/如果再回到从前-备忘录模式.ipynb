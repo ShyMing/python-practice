{
 "cells": [
  {
   "cell_type": "code",
   "execution_count": 1,
   "metadata": {},
   "outputs": [],
   "source": [
    "# 备忘录（Memento）: 在不破坏封装性的前提下，捕获一个对象的内部状态，\n",
    "# 并在该对象之外保存这个状态，这样以后就可以将该对象恢复到原先保存的状态"
   ]
  },
  {
   "cell_type": "code",
   "execution_count": 29,
   "metadata": {},
   "outputs": [],
   "source": [
    "class gamePlayer:\n",
    "    def __init__(self, life = 100, ack = 100, den = 100):\n",
    "        self.life = life\n",
    "        self.ack = ack\n",
    "        self.den = den\n",
    "        \n",
    "    def saveState(self):\n",
    "        return Memento(**self.__dict__)\n",
    "    \n",
    "    def backState(self, memento):\n",
    "        self.__dict__ = memento.__dict__\n",
    "        \n",
    "    def show(self):\n",
    "        print('生命：{life},攻击：{ack}，防御：，{den}'.format(**self.__dict__))\n",
    "\n",
    "    def bitBoss(self):\n",
    "        self.life = 50\n",
    "        self.ack = 100\n",
    "        self.den = 0\n",
    "        \n",
    "class Memento:\n",
    "    def __init__(self, life, ack, den):\n",
    "        self.life = life\n",
    "        self.ack = ack\n",
    "        self.den = den\n",
    "\n",
    "class stateCareraker:\n",
    "    def __init__(self, memento):\n",
    "        self.memento = memento"
   ]
  },
  {
   "cell_type": "code",
   "execution_count": 30,
   "metadata": {},
   "outputs": [],
   "source": [
    "liang = gamePlayer()"
   ]
  },
  {
   "cell_type": "code",
   "execution_count": 31,
   "metadata": {},
   "outputs": [
    {
     "name": "stdout",
     "output_type": "stream",
     "text": [
      "生命：100,攻击：100，防御：，100\n",
      "生命：50,攻击：100，防御：，0\n",
      "生命：100,攻击：100，防御：，100\n"
     ]
    }
   ],
   "source": [
    "liang.show()\n",
    "c = stateCareraker(liang.saveState())\n",
    "liang.bitBoss()\n",
    "liang.show()\n",
    "liang.backState(c.memento)\n",
    "liang.show()"
   ]
  },
  {
   "cell_type": "code",
   "execution_count": null,
   "metadata": {},
   "outputs": [],
   "source": []
  }
 ],
 "metadata": {
  "kernelspec": {
   "display_name": "Python 3",
   "language": "python",
   "name": "python3"
  },
  "language_info": {
   "codemirror_mode": {
    "name": "ipython",
    "version": 3
   },
   "file_extension": ".py",
   "mimetype": "text/x-python",
   "name": "python",
   "nbconvert_exporter": "python",
   "pygments_lexer": "ipython3",
   "version": "3.6.5"
  }
 },
 "nbformat": 4,
 "nbformat_minor": 2
}
